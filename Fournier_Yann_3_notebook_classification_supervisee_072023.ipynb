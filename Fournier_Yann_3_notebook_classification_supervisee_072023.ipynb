{
 "cells": [
  {
   "cell_type": "markdown",
   "id": "472a4736",
   "metadata": {},
   "source": [
    "# Notebook 3\n",
    "\n",
    "Ce notebook est consacré à l'apprentissage supervisé d'un modèle permettant de classifier à partir des images."
   ]
  },
  {
   "cell_type": "markdown",
   "id": "ba08dc81",
   "metadata": {},
   "source": [
    "# 1. Imports"
   ]
  },
  {
   "cell_type": "code",
   "execution_count": 1,
   "id": "4dfea9d2",
   "metadata": {},
   "outputs": [],
   "source": [
    "import pandas as pd\n",
    "import numpy as np\n",
    "import matplotlib.pyplot as plt\n",
    "import seaborn as sns\n",
    "from os import listdir\n",
    "import time\n",
    "\n",
    "from PIL import Image\n",
    "from matplotlib.image import imread\n",
    "\n",
    "\n",
    "#sklearn\n",
    "from sklearn import preprocessing\n",
    "from sklearn import cluster\n",
    "from sklearn import manifold, decomposition\n",
    "from sklearn import metrics\n",
    "from sklearn.model_selection import train_test_split\n",
    "\n",
    "#Keras\n",
    "from keras.applications.vgg16 import VGG16\n",
    "from keras.preprocessing.image import load_img, img_to_array\n",
    "from keras.applications.vgg16 import preprocess_input\n",
    "from keras.applications.vgg16 import decode_predictions\n",
    "from tensorflow.keras.models import Model, Sequential\n",
    "from tensorflow.keras.utils import to_categorical\n",
    "from tensorflow.keras.layers import GlobalAveragePooling2D, Flatten, Dense, Dropout\n",
    "from tensorflow.keras.callbacks import EarlyStopping, ModelCheckpoint\n",
    "from plot_keras_history import show_history, plot_history\n",
    "from tensorflow.keras.preprocessing.image import ImageDataGenerator\n",
    "from tensorflow.keras.utils import image_dataset_from_directory\n",
    "from tensorflow.keras.layers import Rescaling, RandomFlip, RandomRotation, RandomZoom\n",
    "from tensorflow.keras.metrics import Precision, Accuracy"
   ]
  },
  {
   "cell_type": "code",
   "execution_count": 2,
   "id": "5d5dce41",
   "metadata": {},
   "outputs": [
    {
     "data": {
      "text/html": [
       "<div>\n",
       "<style scoped>\n",
       "    .dataframe tbody tr th:only-of-type {\n",
       "        vertical-align: middle;\n",
       "    }\n",
       "\n",
       "    .dataframe tbody tr th {\n",
       "        vertical-align: top;\n",
       "    }\n",
       "\n",
       "    .dataframe thead th {\n",
       "        text-align: right;\n",
       "    }\n",
       "</style>\n",
       "<table border=\"1\" class=\"dataframe\">\n",
       "  <thead>\n",
       "    <tr style=\"text-align: right;\">\n",
       "      <th></th>\n",
       "      <th>image</th>\n",
       "      <th>target</th>\n",
       "    </tr>\n",
       "  </thead>\n",
       "  <tbody>\n",
       "    <tr>\n",
       "      <th>0</th>\n",
       "      <td>55b85ea15a1536d46b7190ad6fff8ce7.jpg</td>\n",
       "      <td>Home Furnishing</td>\n",
       "    </tr>\n",
       "    <tr>\n",
       "      <th>1</th>\n",
       "      <td>7b72c92c2f6c40268628ec5f14c6d590.jpg</td>\n",
       "      <td>Baby Care</td>\n",
       "    </tr>\n",
       "    <tr>\n",
       "      <th>2</th>\n",
       "      <td>64d5d4a258243731dc7bbb1eef49ad74.jpg</td>\n",
       "      <td>Baby Care</td>\n",
       "    </tr>\n",
       "    <tr>\n",
       "      <th>3</th>\n",
       "      <td>d4684dcdc759dd9cdf41504698d737d8.jpg</td>\n",
       "      <td>Home Furnishing</td>\n",
       "    </tr>\n",
       "    <tr>\n",
       "      <th>4</th>\n",
       "      <td>6325b6870c54cd47be6ebfbffa620ec7.jpg</td>\n",
       "      <td>Home Furnishing</td>\n",
       "    </tr>\n",
       "  </tbody>\n",
       "</table>\n",
       "</div>"
      ],
      "text/plain": [
       "                                  image           target\n",
       "0  55b85ea15a1536d46b7190ad6fff8ce7.jpg  Home Furnishing\n",
       "1  7b72c92c2f6c40268628ec5f14c6d590.jpg        Baby Care\n",
       "2  64d5d4a258243731dc7bbb1eef49ad74.jpg        Baby Care\n",
       "3  d4684dcdc759dd9cdf41504698d737d8.jpg  Home Furnishing\n",
       "4  6325b6870c54cd47be6ebfbffa620ec7.jpg  Home Furnishing"
      ]
     },
     "execution_count": 2,
     "metadata": {},
     "output_type": "execute_result"
    }
   ],
   "source": [
    "df = pd.read_csv(\"for_notebook_2.csv\")\n",
    "df.head()"
   ]
  },
  {
   "cell_type": "code",
   "execution_count": 3,
   "id": "d55f95fe",
   "metadata": {},
   "outputs": [
    {
     "data": {
      "text/plain": [
       "(945, 2)"
      ]
     },
     "execution_count": 3,
     "metadata": {},
     "output_type": "execute_result"
    }
   ],
   "source": [
    "#Pré-création d'un jeu de test\n",
    "X = df[\"image\"]\n",
    "y = df[\"target\"]\n",
    "X_train, X_test, y_train, y_test = train_test_split(X,y,stratify = y, test_size = 0.1, random_state = 5)\n",
    "\n",
    "df_test = pd.DataFrame(X_test)\n",
    "df_test[\"target\"] = y_test\n",
    "df_test = df_test.reset_index(drop=True)\n",
    "\n",
    "df_train_val = pd.DataFrame(X_train)\n",
    "df_train_val[\"target\"] = y_train\n",
    "df_train_val = df_train_val.reset_index(drop=True)\n",
    "df_train_val.shape"
   ]
  },
  {
   "cell_type": "code",
   "execution_count": 4,
   "id": "0d67cc8a",
   "metadata": {},
   "outputs": [],
   "source": [
    "#Pour le notebook de séparation des images\n",
    "df_train_val.to_csv('df_train.csv', index_label = False)\n",
    "df_test.to_csv('df_test.csv', index_label = False)"
   ]
  },
  {
   "cell_type": "code",
   "execution_count": 5,
   "id": "554ef9ec",
   "metadata": {},
   "outputs": [],
   "source": [
    "path = \"Flipkart/Images/\""
   ]
  },
  {
   "cell_type": "markdown",
   "id": "2fd2280c",
   "metadata": {},
   "source": [
    "# 2. Préparation des images pour le modèle\n",
    "\n",
    "## 2.1 Préparation initiale"
   ]
  },
  {
   "cell_type": "code",
   "execution_count": 6,
   "id": "9c443524",
   "metadata": {},
   "outputs": [
    {
     "name": "stderr",
     "output_type": "stream",
     "text": [
      "C:\\Users\\Yann\\anaconda3\\lib\\site-packages\\PIL\\Image.py:3035: DecompressionBombWarning: Image size (93680328 pixels) exceeds limit of 89478485 pixels, could be decompression bomb DOS attack.\n",
      "  warnings.warn(\n"
     ]
    }
   ],
   "source": [
    "def image_prep_vgg(df) :\n",
    "    \"\"\"\n",
    "    gets the images from path, makes them 224x224 for VGG16 input, and returns them in an array\n",
    "    \"\"\"\n",
    "    prepared_images = []\n",
    "    for image_num in range(len(df['image'])) :\n",
    "        img = (load_img(\n",
    "            path + df['image'][image_num],\n",
    "            target_size=(224, 224)))\n",
    "        img = img_to_array(img)\n",
    "        img = img.reshape((img.shape[0], img.shape[1], img.shape[2]))\n",
    "        img = preprocess_input(img)\n",
    "        prepared_images.append(img)\n",
    "    prepared_images_np = np.array(prepared_images)\n",
    "    return prepared_images_np\n",
    "\n",
    "X = image_prep_vgg(df_train_val)\n",
    "X_test = image_prep_vgg(df_test)"
   ]
  },
  {
   "cell_type": "code",
   "execution_count": 7,
   "id": "18ada659",
   "metadata": {},
   "outputs": [
    {
     "data": {
      "text/html": [
       "<div>\n",
       "<style scoped>\n",
       "    .dataframe tbody tr th:only-of-type {\n",
       "        vertical-align: middle;\n",
       "    }\n",
       "\n",
       "    .dataframe tbody tr th {\n",
       "        vertical-align: top;\n",
       "    }\n",
       "\n",
       "    .dataframe thead th {\n",
       "        text-align: right;\n",
       "    }\n",
       "</style>\n",
       "<table border=\"1\" class=\"dataframe\">\n",
       "  <thead>\n",
       "    <tr style=\"text-align: right;\">\n",
       "      <th></th>\n",
       "      <th>image</th>\n",
       "      <th>target</th>\n",
       "      <th>label</th>\n",
       "    </tr>\n",
       "  </thead>\n",
       "  <tbody>\n",
       "    <tr>\n",
       "      <th>0</th>\n",
       "      <td>553aa0252537751d153e7c50029f0242.jpg</td>\n",
       "      <td>Watches</td>\n",
       "      <td>6</td>\n",
       "    </tr>\n",
       "    <tr>\n",
       "      <th>1</th>\n",
       "      <td>a4951eb41979fe482879f777c8f21d2b.jpg</td>\n",
       "      <td>Home Decor &amp; Festive Needs</td>\n",
       "      <td>3</td>\n",
       "    </tr>\n",
       "    <tr>\n",
       "      <th>2</th>\n",
       "      <td>57578c1e6ec61a880a6f3f971f5f77b8.jpg</td>\n",
       "      <td>Home Decor &amp; Festive Needs</td>\n",
       "      <td>3</td>\n",
       "    </tr>\n",
       "    <tr>\n",
       "      <th>3</th>\n",
       "      <td>328b66226952d8733c0c48295fae1108.jpg</td>\n",
       "      <td>Kitchen &amp; Dining</td>\n",
       "      <td>5</td>\n",
       "    </tr>\n",
       "    <tr>\n",
       "      <th>4</th>\n",
       "      <td>edec3bb5df9c4bc618752e94532bb36e.jpg</td>\n",
       "      <td>Home Decor &amp; Festive Needs</td>\n",
       "      <td>3</td>\n",
       "    </tr>\n",
       "    <tr>\n",
       "      <th>5</th>\n",
       "      <td>3847353a4b8de1efc504d589aea74ffe.jpg</td>\n",
       "      <td>Kitchen &amp; Dining</td>\n",
       "      <td>5</td>\n",
       "    </tr>\n",
       "    <tr>\n",
       "      <th>6</th>\n",
       "      <td>17611e6e94d73ef376834e5c6ee03dde.jpg</td>\n",
       "      <td>Home Decor &amp; Festive Needs</td>\n",
       "      <td>3</td>\n",
       "    </tr>\n",
       "    <tr>\n",
       "      <th>7</th>\n",
       "      <td>189fa66a5fa6f08d2802a62ecf0be298.jpg</td>\n",
       "      <td>Watches</td>\n",
       "      <td>6</td>\n",
       "    </tr>\n",
       "    <tr>\n",
       "      <th>8</th>\n",
       "      <td>acd2f21d63ac0bbed4d52e6010d9460b.jpg</td>\n",
       "      <td>Kitchen &amp; Dining</td>\n",
       "      <td>5</td>\n",
       "    </tr>\n",
       "    <tr>\n",
       "      <th>9</th>\n",
       "      <td>4f708bc74c4d29b2967dc38a1f5ae6d5.jpg</td>\n",
       "      <td>Computers</td>\n",
       "      <td>2</td>\n",
       "    </tr>\n",
       "  </tbody>\n",
       "</table>\n",
       "</div>"
      ],
      "text/plain": [
       "                                  image                      target  label\n",
       "0  553aa0252537751d153e7c50029f0242.jpg                     Watches      6\n",
       "1  a4951eb41979fe482879f777c8f21d2b.jpg  Home Decor & Festive Needs      3\n",
       "2  57578c1e6ec61a880a6f3f971f5f77b8.jpg  Home Decor & Festive Needs      3\n",
       "3  328b66226952d8733c0c48295fae1108.jpg            Kitchen & Dining      5\n",
       "4  edec3bb5df9c4bc618752e94532bb36e.jpg  Home Decor & Festive Needs      3\n",
       "5  3847353a4b8de1efc504d589aea74ffe.jpg            Kitchen & Dining      5\n",
       "6  17611e6e94d73ef376834e5c6ee03dde.jpg  Home Decor & Festive Needs      3\n",
       "7  189fa66a5fa6f08d2802a62ecf0be298.jpg                     Watches      6\n",
       "8  acd2f21d63ac0bbed4d52e6010d9460b.jpg            Kitchen & Dining      5\n",
       "9  4f708bc74c4d29b2967dc38a1f5ae6d5.jpg                   Computers      2"
      ]
     },
     "execution_count": 7,
     "metadata": {},
     "output_type": "execute_result"
    }
   ],
   "source": [
    "labelencoder = preprocessing.LabelEncoder()\n",
    "df_train_val[\"label\"] = labelencoder.fit_transform(df_train_val[\"target\"])\n",
    "df_test[\"label\"] = labelencoder.fit_transform(df_test[\"target\"])\n",
    "df_test.head(10)"
   ]
  },
  {
   "cell_type": "code",
   "execution_count": 8,
   "id": "6195bab8",
   "metadata": {},
   "outputs": [
    {
     "data": {
      "text/html": [
       "<div>\n",
       "<style scoped>\n",
       "    .dataframe tbody tr th:only-of-type {\n",
       "        vertical-align: middle;\n",
       "    }\n",
       "\n",
       "    .dataframe tbody tr th {\n",
       "        vertical-align: top;\n",
       "    }\n",
       "\n",
       "    .dataframe thead th {\n",
       "        text-align: right;\n",
       "    }\n",
       "</style>\n",
       "<table border=\"1\" class=\"dataframe\">\n",
       "  <thead>\n",
       "    <tr style=\"text-align: right;\">\n",
       "      <th></th>\n",
       "      <th>image</th>\n",
       "      <th>target</th>\n",
       "      <th>label</th>\n",
       "    </tr>\n",
       "  </thead>\n",
       "  <tbody>\n",
       "    <tr>\n",
       "      <th>0</th>\n",
       "      <td>798346b99002495667bb87626d33b99c.jpg</td>\n",
       "      <td>Home Decor &amp; Festive Needs</td>\n",
       "      <td>3</td>\n",
       "    </tr>\n",
       "    <tr>\n",
       "      <th>1</th>\n",
       "      <td>bba68d75eff1b7b5eef7f6c1c68f2227.jpg</td>\n",
       "      <td>Home Furnishing</td>\n",
       "      <td>4</td>\n",
       "    </tr>\n",
       "    <tr>\n",
       "      <th>2</th>\n",
       "      <td>146b0d570d5ab4e27629d48533b7680d.jpg</td>\n",
       "      <td>Computers</td>\n",
       "      <td>2</td>\n",
       "    </tr>\n",
       "    <tr>\n",
       "      <th>3</th>\n",
       "      <td>fa2e5f01bbb642c49e4b2e19d2b39dcf.jpg</td>\n",
       "      <td>Beauty and Personal Care</td>\n",
       "      <td>1</td>\n",
       "    </tr>\n",
       "    <tr>\n",
       "      <th>4</th>\n",
       "      <td>9a02f44389bda4c60e7dc23947dbca58.jpg</td>\n",
       "      <td>Beauty and Personal Care</td>\n",
       "      <td>1</td>\n",
       "    </tr>\n",
       "    <tr>\n",
       "      <th>5</th>\n",
       "      <td>3b465b02720ef7c930cb2e065a8fc05d.jpg</td>\n",
       "      <td>Baby Care</td>\n",
       "      <td>0</td>\n",
       "    </tr>\n",
       "    <tr>\n",
       "      <th>6</th>\n",
       "      <td>9ba898ecb77ab5a6799c8b047c6b6008.jpg</td>\n",
       "      <td>Kitchen &amp; Dining</td>\n",
       "      <td>5</td>\n",
       "    </tr>\n",
       "    <tr>\n",
       "      <th>7</th>\n",
       "      <td>9a993e1b59649c93f667d38227325066.jpg</td>\n",
       "      <td>Computers</td>\n",
       "      <td>2</td>\n",
       "    </tr>\n",
       "    <tr>\n",
       "      <th>8</th>\n",
       "      <td>b4d35b6536b623c83b293eb3a1c02bba.jpg</td>\n",
       "      <td>Computers</td>\n",
       "      <td>2</td>\n",
       "    </tr>\n",
       "    <tr>\n",
       "      <th>9</th>\n",
       "      <td>958f54f4c46b53c8a0a9b8167d9140bc.jpg</td>\n",
       "      <td>Baby Care</td>\n",
       "      <td>0</td>\n",
       "    </tr>\n",
       "  </tbody>\n",
       "</table>\n",
       "</div>"
      ],
      "text/plain": [
       "                                  image                      target  label\n",
       "0  798346b99002495667bb87626d33b99c.jpg  Home Decor & Festive Needs      3\n",
       "1  bba68d75eff1b7b5eef7f6c1c68f2227.jpg             Home Furnishing      4\n",
       "2  146b0d570d5ab4e27629d48533b7680d.jpg                   Computers      2\n",
       "3  fa2e5f01bbb642c49e4b2e19d2b39dcf.jpg    Beauty and Personal Care      1\n",
       "4  9a02f44389bda4c60e7dc23947dbca58.jpg    Beauty and Personal Care      1\n",
       "5  3b465b02720ef7c930cb2e065a8fc05d.jpg                   Baby Care      0\n",
       "6  9ba898ecb77ab5a6799c8b047c6b6008.jpg            Kitchen & Dining      5\n",
       "7  9a993e1b59649c93f667d38227325066.jpg                   Computers      2\n",
       "8  b4d35b6536b623c83b293eb3a1c02bba.jpg                   Computers      2\n",
       "9  958f54f4c46b53c8a0a9b8167d9140bc.jpg                   Baby Care      0"
      ]
     },
     "execution_count": 8,
     "metadata": {},
     "output_type": "execute_result"
    }
   ],
   "source": [
    "#Je m'assure que le LabelEncoding affiche les mêmes labels pour les deux dataframes\n",
    "df_train_val.head(10)"
   ]
  },
  {
   "cell_type": "code",
   "execution_count": 9,
   "id": "eef95c3c",
   "metadata": {},
   "outputs": [
    {
     "data": {
      "text/plain": [
       "(945, 224, 224, 3)"
      ]
     },
     "execution_count": 9,
     "metadata": {},
     "output_type": "execute_result"
    }
   ],
   "source": [
    "y_train_val = to_categorical(df_train_val[\"label\"])\n",
    "y_test = to_categorical(df_test[\"label\"])\n",
    "\n",
    "X.shape"
   ]
  },
  {
   "cell_type": "markdown",
   "id": "cfdf9f73",
   "metadata": {},
   "source": [
    "## 2.2 Jeux d'entraînement / validation / test\n",
    "\n",
    "Ayant assez peu de données, je vais séparer avec 80% / 10% / 10% des données"
   ]
  },
  {
   "cell_type": "code",
   "execution_count": 10,
   "id": "e88a55df",
   "metadata": {},
   "outputs": [
    {
     "data": {
      "text/plain": [
       "(840, 224, 224, 3)"
      ]
     },
     "execution_count": 10,
     "metadata": {},
     "output_type": "execute_result"
    }
   ],
   "source": [
    "X_train, X_val, y_train, y_val = train_test_split(X, y_train_val, stratify = y_train_val, test_size = 1/9, random_state = 8)\n",
    "\n",
    "X_train.shape"
   ]
  },
  {
   "cell_type": "code",
   "execution_count": 11,
   "id": "a948c47c",
   "metadata": {},
   "outputs": [
    {
     "data": {
      "text/plain": [
       "(105, 224, 224, 3)"
      ]
     },
     "execution_count": 11,
     "metadata": {},
     "output_type": "execute_result"
    }
   ],
   "source": [
    "X_test.shape"
   ]
  },
  {
   "cell_type": "code",
   "execution_count": 12,
   "id": "8effc925",
   "metadata": {},
   "outputs": [
    {
     "data": {
      "text/plain": [
       "(105, 224, 224, 3)"
      ]
     },
     "execution_count": 12,
     "metadata": {},
     "output_type": "execute_result"
    }
   ],
   "source": [
    "X_val.shape"
   ]
  },
  {
   "cell_type": "markdown",
   "id": "d45b12b0",
   "metadata": {},
   "source": [
    "Très bien. mes données sont maintenant bien séparées et prétraitées, on va pouvoir passer à la suite.\n",
    "\n",
    "# 3. Premier modèle\n",
    "\n",
    "## 3.1 Construction du modèle\n",
    "\n",
    "Pour ma première tentative, je vais réutiliser le modèle pré-entraîné VGG16, mais cette fois-ci (par rapport au non supervisé du notebook précédent), je vais réentraîner les couches de sortie sur mes données."
   ]
  },
  {
   "cell_type": "code",
   "execution_count": 13,
   "id": "ec7dc8cc",
   "metadata": {},
   "outputs": [],
   "source": [
    "#Je récupère la fonction en exemple, que je teste quelques fois afin d'ajuster les paramètres\n",
    "def create_model_fct() :\n",
    "    \"\"\"\n",
    "    crates the model with Transfer Learning. We get the weights from VGG16, then \n",
    "    we train a way less complex model on our data to get our predictions.\n",
    "    \"\"\"\n",
    "    # Récupération modèle pré-entraîné\n",
    "    model0 = VGG16(include_top=False, weights=\"imagenet\", input_shape=(224, 224, 3))\n",
    "\n",
    "    # Layer non entraînables = on garde les poids du modèle pré-entraîné\n",
    "    for layer in model0.layers:\n",
    "        layer.trainable = False\n",
    "\n",
    "    # Récupérer la sortie de ce réseau\n",
    "    x = model0.output\n",
    "    # Compléter le modèle\n",
    "    x = GlobalAveragePooling2D()(x)\n",
    "    x = Dense(256, activation='relu')(x)\n",
    "    # x = Dropout(0.5)(x)\n",
    "    predictions = Dense(7, activation='softmax')(x)\n",
    "\n",
    "    # Définir le nouveau modèle\n",
    "    model = Model(inputs=model0.input, outputs=predictions)\n",
    "    # compilation du modèle \n",
    "    model.compile(loss=\"categorical_crossentropy\", optimizer='rmsprop', metrics=[\"accuracy\"])\n",
    "\n",
    "    print(model.summary())\n",
    "    \n",
    "    return model"
   ]
  },
  {
   "cell_type": "code",
   "execution_count": 14,
   "id": "3b39a9fb",
   "metadata": {},
   "outputs": [
    {
     "name": "stdout",
     "output_type": "stream",
     "text": [
      "Model: \"model\"\n",
      "_________________________________________________________________\n",
      " Layer (type)                Output Shape              Param #   \n",
      "=================================================================\n",
      " input_1 (InputLayer)        [(None, 224, 224, 3)]     0         \n",
      "                                                                 \n",
      " block1_conv1 (Conv2D)       (None, 224, 224, 64)      1792      \n",
      "                                                                 \n",
      " block1_conv2 (Conv2D)       (None, 224, 224, 64)      36928     \n",
      "                                                                 \n",
      " block1_pool (MaxPooling2D)  (None, 112, 112, 64)      0         \n",
      "                                                                 \n",
      " block2_conv1 (Conv2D)       (None, 112, 112, 128)     73856     \n",
      "                                                                 \n",
      " block2_conv2 (Conv2D)       (None, 112, 112, 128)     147584    \n",
      "                                                                 \n",
      " block2_pool (MaxPooling2D)  (None, 56, 56, 128)       0         \n",
      "                                                                 \n",
      " block3_conv1 (Conv2D)       (None, 56, 56, 256)       295168    \n",
      "                                                                 \n",
      " block3_conv2 (Conv2D)       (None, 56, 56, 256)       590080    \n",
      "                                                                 \n",
      " block3_conv3 (Conv2D)       (None, 56, 56, 256)       590080    \n",
      "                                                                 \n",
      " block3_pool (MaxPooling2D)  (None, 28, 28, 256)       0         \n",
      "                                                                 \n",
      " block4_conv1 (Conv2D)       (None, 28, 28, 512)       1180160   \n",
      "                                                                 \n",
      " block4_conv2 (Conv2D)       (None, 28, 28, 512)       2359808   \n",
      "                                                                 \n",
      " block4_conv3 (Conv2D)       (None, 28, 28, 512)       2359808   \n",
      "                                                                 \n",
      " block4_pool (MaxPooling2D)  (None, 14, 14, 512)       0         \n",
      "                                                                 \n",
      " block5_conv1 (Conv2D)       (None, 14, 14, 512)       2359808   \n",
      "                                                                 \n",
      " block5_conv2 (Conv2D)       (None, 14, 14, 512)       2359808   \n",
      "                                                                 \n",
      " block5_conv3 (Conv2D)       (None, 14, 14, 512)       2359808   \n",
      "                                                                 \n",
      " block5_pool (MaxPooling2D)  (None, 7, 7, 512)         0         \n",
      "                                                                 \n",
      " global_average_pooling2d (  (None, 512)               0         \n",
      " GlobalAveragePooling2D)                                         \n",
      "                                                                 \n",
      " dense (Dense)               (None, 256)               131328    \n",
      "                                                                 \n",
      " dense_1 (Dense)             (None, 7)                 1799      \n",
      "                                                                 \n",
      "=================================================================\n",
      "Total params: 14847815 (56.64 MB)\n",
      "Trainable params: 133127 (520.03 KB)\n",
      "Non-trainable params: 14714688 (56.13 MB)\n",
      "_________________________________________________________________\n",
      "None\n"
     ]
    }
   ],
   "source": [
    "model1 = create_model_fct()"
   ]
  },
  {
   "cell_type": "markdown",
   "id": "273ed8a7",
   "metadata": {},
   "source": [
    "Ensuite, comme je n'ai qu'assez peu de données, j'ai peur de l'overfitting malgré les précautions déjà prises.\n",
    "Cela se traduirait par un nombre trop important d'epochs, et donc un apprentissage trop fréquent sur les mêmes données.\n",
    "\n",
    "Pour prendre cela en compte, on va stocker le meilleur résultat, de manière à pouvoir le retrouver même une fois écrasé par la suite de l'apprentissage du modèle."
   ]
  },
  {
   "cell_type": "code",
   "execution_count": 15,
   "id": "daf5e164",
   "metadata": {},
   "outputs": [],
   "source": [
    "# Création du callback\n",
    "model1_save_path = \"./model1_best_weights.h5\"\n",
    "checkpoint = ModelCheckpoint(model1_save_path, monitor='val_loss', verbose=1, save_best_only=True, mode='min')\n",
    "es = EarlyStopping(monitor='val_loss', mode='min', verbose=1, patience=5)\n",
    "callbacks_list = [checkpoint, es]"
   ]
  },
  {
   "cell_type": "markdown",
   "id": "4225fdb8",
   "metadata": {},
   "source": [
    "## 3.2 Entraînement et évaluation du modèle"
   ]
  },
  {
   "cell_type": "code",
   "execution_count": 16,
   "id": "dd9ba2b9",
   "metadata": {},
   "outputs": [
    {
     "name": "stdout",
     "output_type": "stream",
     "text": [
      "Epoch 1/50\n",
      "14/14 [==============================] - ETA: 0s - loss: 3.5224 - accuracy: 0.5667\n",
      "Epoch 1: val_loss improved from inf to 2.29905, saving model to .\\model1_best_weights.h5\n",
      "14/14 [==============================] - 45s 3s/step - loss: 3.5224 - accuracy: 0.5667 - val_loss: 2.2991 - val_accuracy: 0.6000\n",
      "Epoch 2/50\n"
     ]
    },
    {
     "name": "stderr",
     "output_type": "stream",
     "text": [
      "C:\\Users\\Yann\\anaconda3\\lib\\site-packages\\keras\\src\\engine\\training.py:3000: UserWarning: You are saving your model as an HDF5 file via `model.save()`. This file format is considered legacy. We recommend using instead the native Keras format, e.g. `model.save('my_model.keras')`.\n",
      "  saving_api.save_model(\n"
     ]
    },
    {
     "name": "stdout",
     "output_type": "stream",
     "text": [
      "14/14 [==============================] - ETA: 0s - loss: 0.8857 - accuracy: 0.8214\n",
      "Epoch 2: val_loss improved from 2.29905 to 2.26731, saving model to .\\model1_best_weights.h5\n",
      "14/14 [==============================] - 47s 3s/step - loss: 0.8857 - accuracy: 0.8214 - val_loss: 2.2673 - val_accuracy: 0.6762\n",
      "Epoch 3/50\n",
      "14/14 [==============================] - ETA: 0s - loss: 0.4666 - accuracy: 0.8917\n",
      "Epoch 3: val_loss improved from 2.26731 to 1.44946, saving model to .\\model1_best_weights.h5\n",
      "14/14 [==============================] - 47s 3s/step - loss: 0.4666 - accuracy: 0.8917 - val_loss: 1.4495 - val_accuracy: 0.7143\n",
      "Epoch 4/50\n",
      "14/14 [==============================] - ETA: 0s - loss: 0.2057 - accuracy: 0.9429\n",
      "Epoch 4: val_loss did not improve from 1.44946\n",
      "14/14 [==============================] - 47s 3s/step - loss: 0.2057 - accuracy: 0.9429 - val_loss: 1.7479 - val_accuracy: 0.7143\n",
      "Epoch 5/50\n",
      "14/14 [==============================] - ETA: 0s - loss: 0.1513 - accuracy: 0.9548\n",
      "Epoch 5: val_loss did not improve from 1.44946\n",
      "14/14 [==============================] - 48s 3s/step - loss: 0.1513 - accuracy: 0.9548 - val_loss: 1.4703 - val_accuracy: 0.7143\n",
      "Epoch 6/50\n",
      "14/14 [==============================] - ETA: 0s - loss: 0.0408 - accuracy: 0.9893\n",
      "Epoch 6: val_loss improved from 1.44946 to 1.17423, saving model to .\\model1_best_weights.h5\n",
      "14/14 [==============================] - 48s 3s/step - loss: 0.0408 - accuracy: 0.9893 - val_loss: 1.1742 - val_accuracy: 0.7619\n",
      "Epoch 7/50\n",
      "14/14 [==============================] - ETA: 0s - loss: 0.0116 - accuracy: 0.9988\n",
      "Epoch 7: val_loss did not improve from 1.17423\n",
      "14/14 [==============================] - 48s 3s/step - loss: 0.0116 - accuracy: 0.9988 - val_loss: 1.2987 - val_accuracy: 0.7714\n",
      "Epoch 8/50\n",
      "14/14 [==============================] - ETA: 0s - loss: 0.0062 - accuracy: 0.9988\n",
      "Epoch 8: val_loss did not improve from 1.17423\n",
      "14/14 [==============================] - 48s 3s/step - loss: 0.0062 - accuracy: 0.9988 - val_loss: 1.4998 - val_accuracy: 0.7619\n",
      "Epoch 9/50\n",
      "14/14 [==============================] - ETA: 0s - loss: 0.3161 - accuracy: 0.9476\n",
      "Epoch 9: val_loss did not improve from 1.17423\n",
      "14/14 [==============================] - 48s 3s/step - loss: 0.3161 - accuracy: 0.9476 - val_loss: 1.5158 - val_accuracy: 0.7619\n",
      "Epoch 10/50\n",
      "14/14 [==============================] - ETA: 0s - loss: 0.0299 - accuracy: 0.9905\n",
      "Epoch 10: val_loss did not improve from 1.17423\n",
      "14/14 [==============================] - 48s 3s/step - loss: 0.0299 - accuracy: 0.9905 - val_loss: 1.4037 - val_accuracy: 0.7619\n",
      "Epoch 11/50\n",
      "14/14 [==============================] - ETA: 0s - loss: 0.0024 - accuracy: 1.0000\n",
      "Epoch 11: val_loss did not improve from 1.17423\n",
      "14/14 [==============================] - 48s 3s/step - loss: 0.0024 - accuracy: 1.0000 - val_loss: 1.3765 - val_accuracy: 0.7714\n",
      "Epoch 11: early stopping\n",
      "temps d'entrainement' :           522.72 secondes\n"
     ]
    }
   ],
   "source": [
    "#On entraîne le modèle avec les données d'entraînement et de validation\n",
    "t1 = time.time()\n",
    "\n",
    "history1 = model1.fit(X_train,\n",
    "                      y_train, \n",
    "                      epochs=50, \n",
    "                      batch_size=64, \n",
    "                      callbacks=callbacks_list, \n",
    "                      validation_data=(X_val, y_val), \n",
    "                      verbose=1)\n",
    "\n",
    "duration1=time.time()-t1\n",
    "print(\"temps d'entrainement' : \", \"%15.2f\" % duration1, \"secondes\")"
   ]
  },
  {
   "cell_type": "code",
   "execution_count": 17,
   "id": "04dfaae1",
   "metadata": {},
   "outputs": [
    {
     "name": "stdout",
     "output_type": "stream",
     "text": [
      "27/27 [==============================] - 43s 2s/step - loss: 0.0011 - accuracy: 1.0000\n",
      "\n",
      "4/4 [==============================] - 5s 1s/step - loss: 1.3765 - accuracy: 0.7714\n"
     ]
    }
   ],
   "source": [
    "# Score du dernier epoch\n",
    "loss, accuracy = model1.evaluate(X_train, y_train, verbose=True)\n",
    "print()\n",
    "loss, accuracy = model1.evaluate(X_val, y_val, verbose=True)"
   ]
  },
  {
   "cell_type": "code",
   "execution_count": 18,
   "id": "d6240ab1",
   "metadata": {},
   "outputs": [
    {
     "name": "stdout",
     "output_type": "stream",
     "text": [
      "Validation Accuracy :  0.7619\n",
      "Test Accuracy       :  0.8286\n"
     ]
    }
   ],
   "source": [
    "# Score de l'epoch optimal\n",
    "model1.load_weights(model1_save_path)\n",
    "\n",
    "loss, accuracy = model1.evaluate(X_val, y_val, verbose=False)\n",
    "print(\"Validation Accuracy :  {:.4f}\".format(accuracy))\n",
    "\n",
    "loss_1, accuracy = model1.evaluate(X_test, y_test, verbose=False)\n",
    "print(\"Test Accuracy       :  {:.4f}\".format(accuracy))"
   ]
  },
  {
   "cell_type": "code",
   "execution_count": 19,
   "id": "a64eca90",
   "metadata": {},
   "outputs": [
    {
     "data": {
      "image/png": "[encoded data removed]",
      "text/plain": [
       "<Figure size 1000x500 with 2 Axes>"
      ]
     },
     "metadata": {},
     "output_type": "display_data"
    }
   ],
   "source": [
    "show_history(history1)\n",
    "plot_history(history1, path=\"standard.png\")\n",
    "plt.close()"
   ]
  },
  {
   "cell_type": "markdown",
   "id": "a340126e",
   "metadata": {},
   "source": [
    "## 3.3 Matrice de confusion"
   ]
  },
  {
   "cell_type": "code",
   "execution_count": 20,
   "id": "5e92a208",
   "metadata": {},
   "outputs": [
    {
     "name": "stdout",
     "output_type": "stream",
     "text": [
      "4/4 [==============================] - 5s 1s/step\n",
      "[[12  1  0  1  1  0  0]\n",
      " [ 0 14  0  0  0  0  1]\n",
      " [ 0  0 14  1  0  0  0]\n",
      " [ 3  0  0  7  1  4  0]\n",
      " [ 2  0  0  0 12  1  0]\n",
      " [ 0  0  0  1  0 13  1]\n",
      " [ 0  0  0  0  0  0 15]]\n"
     ]
    }
   ],
   "source": [
    "y_test_num_1 = np.argmax(y_test, axis=1)\n",
    "y_test_pred_1 = np.argmax(model1.predict(X_test), axis=1)\n",
    "conf_mat = metrics.confusion_matrix(y_test_num_1, y_test_pred_1)\n",
    "print(conf_mat)"
   ]
  },
  {
   "cell_type": "code",
   "execution_count": 21,
   "id": "877c89f7",
   "metadata": {},
   "outputs": [],
   "source": [
    "# Je reprends la fonction du notebook précédent\n",
    "def conf_mat_transform(y_true,y_pred) :\n",
    "    \"\"\"\n",
    "    met la matrice de confusion \"dans l'ordre\" (avec la diagonale dominante)\n",
    "    \"\"\"\n",
    "    conf_mat = metrics.confusion_matrix(y_true,y_pred)\n",
    "    \n",
    "    corresp = np.argmax(conf_mat, axis=0)\n",
    "    print (\"Correspondance des clusters : \", corresp)\n",
    "    labels = pd.Series(y_true, name=\"y_true\").to_frame()\n",
    "    labels['y_pred'] = y_pred\n",
    "    labels['y_pred_transform'] = labels['y_pred'].apply(lambda x : corresp[x]) \n",
    "    \n",
    "    return labels['y_pred_transform']"
   ]
  },
  {
   "cell_type": "code",
   "execution_count": 22,
   "id": "341b59ae",
   "metadata": {},
   "outputs": [
    {
     "name": "stdout",
     "output_type": "stream",
     "text": [
      "Correspondance des clusters :  [0 1 2 3 4 5 6]\n"
     ]
    },
    {
     "data": {
      "text/plain": [
       "array([[12,  1,  0,  1,  1,  0,  0],\n",
       "       [ 0, 14,  0,  0,  0,  0,  1],\n",
       "       [ 0,  0, 14,  1,  0,  0,  0],\n",
       "       [ 3,  0,  0,  7,  1,  4,  0],\n",
       "       [ 2,  0,  0,  0, 12,  1,  0],\n",
       "       [ 0,  0,  0,  1,  0, 13,  1],\n",
       "       [ 0,  0,  0,  0,  0,  0, 15]], dtype=int64)"
      ]
     },
     "execution_count": 22,
     "metadata": {},
     "output_type": "execute_result"
    }
   ],
   "source": [
    "y_test_pred_transform_1 = conf_mat_transform(y_test_num_1, y_test_pred_1)\n",
    "conf_mat = metrics.confusion_matrix(y_test_num_1, y_test_pred_transform_1)\n",
    "conf_mat"
   ]
  },
  {
   "cell_type": "code",
   "execution_count": 23,
   "id": "990153b2",
   "metadata": {},
   "outputs": [
    {
     "data": {
      "text/plain": [
       "<AxesSubplot:>"
      ]
     },
     "execution_count": 23,
     "metadata": {},
     "output_type": "execute_result"
    },
    {
     "data": {
      "image/png": "[encoded data removed]",
      "text/plain": [
       "<Figure size 600x400 with 2 Axes>"
      ]
     },
     "metadata": {},
     "output_type": "display_data"
    }
   ],
   "source": [
    "list_labels = [\"Baby Care\",\"Beauty and Personal Care\",\"Computers\",\"Home Decor & Festive Needs\",\"Home Furnishing\",\"Kitchen & Dining\",\"Watches\"]\n",
    "\n",
    "df_cm = pd.DataFrame(conf_mat, index = [label for label in list_labels],\n",
    "                  columns = [i for i in \"0123456\"])\n",
    "plt.figure(figsize = (6,4))\n",
    "sns.heatmap(df_cm, annot=True, cmap=\"Blues\")"
   ]
  },
  {
   "cell_type": "markdown",
   "id": "4370b558",
   "metadata": {},
   "source": [
    "Ce n'est pas encore parfait, mais on a une nette amélioration par rapport au non supervisé.\n",
    "\n",
    "Essayons maintenant avec la data augmentation.\n",
    "\n",
    "# 4. Deuxième modèle (le premier + data augmentation avec ImageDataGenerator)"
   ]
  },
  {
   "cell_type": "markdown",
   "id": "cd59e658",
   "metadata": {},
   "source": [
    "Globalement, on va procéder exactement de la même manière. Ce qui change, ce sont nos données. En effet, on en a assez peu, et on va utiliser la data augmentation pour artificiellement augmenter leur nombre.\n",
    "\n",
    "A noter que ImageDataGenerator est noté comme \"deprecated\", et on utilisera donc une autre approche ensuite.\n",
    "\n",
    "## 4.1 Séparation des données et data augmentation"
   ]
  },
  {
   "cell_type": "code",
   "execution_count": 24,
   "id": "0fad4922",
   "metadata": {},
   "outputs": [],
   "source": [
    "def data_flow_fct(df, datagen, data_type=None) :\n",
    "    data_flow = datagen.flow_from_dataframe(df,\n",
    "                                            directory=path,\n",
    "                                            x_col='image',\n",
    "                                            y_col='target',\n",
    "                                            weight_col=None, \n",
    "                                            target_size=(224, 224),\n",
    "                                            classes=None, \n",
    "                                            class_mode='categorical',\n",
    "                                            batch_size=1, \n",
    "                                            shuffle=False, \n",
    "                                            seed=2,\n",
    "                                            subset=data_type,\n",
    "                                            save_to_dir = path + '/Augmented'\n",
    "                                            )\n",
    "    return data_flow"
   ]
  },
  {
   "cell_type": "code",
   "execution_count": 25,
   "id": "f1c53666",
   "metadata": {
    "scrolled": true
   },
   "outputs": [
    {
     "name": "stdout",
     "output_type": "stream",
     "text": [
      "Found 840 validated image filenames belonging to 7 classes.\n",
      "Found 105 validated image filenames belonging to 7 classes.\n",
      "Found 105 validated image filenames belonging to 7 classes.\n"
     ]
    }
   ],
   "source": [
    "datagen_train = ImageDataGenerator(featurewise_center=True,\n",
    "                                    featurewise_std_normalization=True,\n",
    "                                    rotation_range=20,\n",
    "                                    width_shift_range=0.2,\n",
    "                                    height_shift_range=0.2,\n",
    "                                    horizontal_flip=True,\n",
    "                                    validation_split=1/9,\n",
    "                                    preprocessing_function=preprocess_input\n",
    "                                  )\n",
    "\n",
    "train_flow = data_flow_fct(df_train_val, datagen_train, data_type='training')\n",
    "val_flow = data_flow_fct(df_train_val, datagen_train, data_type='validation')\n",
    "\n",
    "#Pour le jeu de test, pas besoin de faire de la data augmentation\n",
    "datagen_test = ImageDataGenerator(\n",
    "    validation_split=0,\n",
    "    preprocessing_function=preprocess_input)\n",
    "\n",
    "test_flow = data_flow_fct(df_test, datagen_test, data_type=None)\n"
   ]
  },
  {
   "cell_type": "code",
   "execution_count": 26,
   "id": "dde03e3c",
   "metadata": {},
   "outputs": [
    {
     "data": {
      "text/plain": [
       "105"
      ]
     },
     "execution_count": 26,
     "metadata": {},
     "output_type": "execute_result"
    }
   ],
   "source": [
    "test_flow.__len__()"
   ]
  },
  {
   "cell_type": "markdown",
   "id": "76de1ff5",
   "metadata": {},
   "source": [
    "## 4.2 Création du modèle"
   ]
  },
  {
   "cell_type": "code",
   "execution_count": 27,
   "id": "54e2594f",
   "metadata": {},
   "outputs": [
    {
     "name": "stdout",
     "output_type": "stream",
     "text": [
      "Model: \"model_1\"\n",
      "_________________________________________________________________\n",
      " Layer (type)                Output Shape              Param #   \n",
      "=================================================================\n",
      " input_2 (InputLayer)        [(None, 224, 224, 3)]     0         \n",
      "                                                                 \n",
      " block1_conv1 (Conv2D)       (None, 224, 224, 64)      1792      \n",
      "                                                                 \n",
      " block1_conv2 (Conv2D)       (None, 224, 224, 64)      36928     \n",
      "                                                                 \n",
      " block1_pool (MaxPooling2D)  (None, 112, 112, 64)      0         \n",
      "                                                                 \n",
      " block2_conv1 (Conv2D)       (None, 112, 112, 128)     73856     \n",
      "                                                                 \n",
      " block2_conv2 (Conv2D)       (None, 112, 112, 128)     147584    \n",
      "                                                                 \n",
      " block2_pool (MaxPooling2D)  (None, 56, 56, 128)       0         \n",
      "                                                                 \n",
      " block3_conv1 (Conv2D)       (None, 56, 56, 256)       295168    \n",
      "                                                                 \n",
      " block3_conv2 (Conv2D)       (None, 56, 56, 256)       590080    \n",
      "                                                                 \n",
      " block3_conv3 (Conv2D)       (None, 56, 56, 256)       590080    \n",
      "                                                                 \n",
      " block3_pool (MaxPooling2D)  (None, 28, 28, 256)       0         \n",
      "                                                                 \n",
      " block4_conv1 (Conv2D)       (None, 28, 28, 512)       1180160   \n",
      "                                                                 \n",
      " block4_conv2 (Conv2D)       (None, 28, 28, 512)       2359808   \n",
      "                                                                 \n",
      " block4_conv3 (Conv2D)       (None, 28, 28, 512)       2359808   \n",
      "                                                                 \n",
      " block4_pool (MaxPooling2D)  (None, 14, 14, 512)       0         \n",
      "                                                                 \n",
      " block5_conv1 (Conv2D)       (None, 14, 14, 512)       2359808   \n",
      "                                                                 \n",
      " block5_conv2 (Conv2D)       (None, 14, 14, 512)       2359808   \n",
      "                                                                 \n",
      " block5_conv3 (Conv2D)       (None, 14, 14, 512)       2359808   \n",
      "                                                                 \n",
      " block5_pool (MaxPooling2D)  (None, 7, 7, 512)         0         \n",
      "                                                                 \n",
      " global_average_pooling2d_1  (None, 512)               0         \n",
      "  (GlobalAveragePooling2D)                                       \n",
      "                                                                 \n",
      " dense_2 (Dense)             (None, 256)               131328    \n",
      "                                                                 \n",
      " dense_3 (Dense)             (None, 7)                 1799      \n",
      "                                                                 \n",
      "=================================================================\n",
      "Total params: 14847815 (56.64 MB)\n",
      "Trainable params: 133127 (520.03 KB)\n",
      "Non-trainable params: 14714688 (56.13 MB)\n",
      "_________________________________________________________________\n",
      "None\n"
     ]
    }
   ],
   "source": [
    "#Modèle numéro 2 : le même que le premier.\n",
    "model2 = create_model_fct()\n",
    "\n",
    "#Comme pour le premier modèle, on créé un callback\n",
    "model2_save_path = \"./model2_best_weights.h5\"\n",
    "checkpoint = ModelCheckpoint(model2_save_path, monitor='val_loss', verbose=1, save_best_only=True, mode='min')\n",
    "es = EarlyStopping(monitor='val_loss', mode='min', verbose=1, patience=5)\n",
    "callbacks_list = [checkpoint, es]"
   ]
  },
  {
   "cell_type": "markdown",
   "id": "39db9127",
   "metadata": {},
   "source": [
    "## 4.3 Entraînement et évaluation du modèle"
   ]
  },
  {
   "cell_type": "code",
   "execution_count": 28,
   "id": "7331f91b",
   "metadata": {},
   "outputs": [
    {
     "name": "stdout",
     "output_type": "stream",
     "text": [
      "Epoch 1/50\n"
     ]
    },
    {
     "name": "stderr",
     "output_type": "stream",
     "text": [
      "C:\\Users\\Yann\\anaconda3\\lib\\site-packages\\keras\\src\\preprocessing\\image.py:1861: UserWarning: This ImageDataGenerator specifies `featurewise_center`, but it hasn't been fit on any training data. Fit it first by calling `.fit(numpy_data)`.\n",
      "  warnings.warn(\n",
      "C:\\Users\\Yann\\anaconda3\\lib\\site-packages\\keras\\src\\preprocessing\\image.py:1871: UserWarning: This ImageDataGenerator specifies `featurewise_std_normalization`, but it hasn't been fit on any training data. Fit it first by calling `.fit(numpy_data)`.\n",
      "  warnings.warn(\n"
     ]
    },
    {
     "name": "stdout",
     "output_type": "stream",
     "text": [
      "717/840 [========================>.....] - ETA: 8s - loss: 2.4556 - accuracy: 0.6332"
     ]
    },
    {
     "name": "stderr",
     "output_type": "stream",
     "text": [
      "C:\\Users\\Yann\\anaconda3\\lib\\site-packages\\PIL\\Image.py:3035: DecompressionBombWarning: Image size (93680328 pixels) exceeds limit of 89478485 pixels, could be decompression bomb DOS attack.\n",
      "  warnings.warn(\n"
     ]
    },
    {
     "name": "stdout",
     "output_type": "stream",
     "text": [
      "840/840 [==============================] - ETA: 0s - loss: 2.4235 - accuracy: 0.6417\n",
      "Epoch 1: val_loss improved from inf to 1.76762, saving model to .\\model2_best_weights.h5\n",
      "840/840 [==============================] - 66s 78ms/step - loss: 2.4235 - accuracy: 0.6417 - val_loss: 1.7676 - val_accuracy: 0.7238\n",
      "Epoch 2/50\n",
      "  1/840 [..............................] - ETA: 1:17 - loss: 1.1206e-05 - accuracy: 1.0000"
     ]
    },
    {
     "name": "stderr",
     "output_type": "stream",
     "text": [
      "C:\\Users\\Yann\\anaconda3\\lib\\site-packages\\keras\\src\\engine\\training.py:3000: UserWarning: You are saving your model as an HDF5 file via `model.save()`. This file format is considered legacy. We recommend using instead the native Keras format, e.g. `model.save('my_model.keras')`.\n",
      "  saving_api.save_model(\n"
     ]
    },
    {
     "name": "stdout",
     "output_type": "stream",
     "text": [
      "840/840 [==============================] - ETA: 0s - loss: 1.2066 - accuracy: 0.7810\n",
      "Epoch 2: val_loss improved from 1.76762 to 1.57758, saving model to .\\model2_best_weights.h5\n",
      "840/840 [==============================] - 66s 78ms/step - loss: 1.2066 - accuracy: 0.7810 - val_loss: 1.5776 - val_accuracy: 0.7619\n",
      "Epoch 3/50\n",
      "840/840 [==============================] - ETA: 0s - loss: 0.8751 - accuracy: 0.8298\n",
      "Epoch 3: val_loss did not improve from 1.57758\n",
      "840/840 [==============================] - 66s 78ms/step - loss: 0.8751 - accuracy: 0.8298 - val_loss: 1.9428 - val_accuracy: 0.7619\n",
      "Epoch 4/50\n",
      "840/840 [==============================] - ETA: 0s - loss: 0.8201 - accuracy: 0.8619\n",
      "Epoch 4: val_loss did not improve from 1.57758\n",
      "840/840 [==============================] - 67s 80ms/step - loss: 0.8201 - accuracy: 0.8619 - val_loss: 2.3266 - val_accuracy: 0.7619\n",
      "Epoch 5/50\n",
      "840/840 [==============================] - ETA: 0s - loss: 0.5674 - accuracy: 0.8845\n",
      "Epoch 5: val_loss did not improve from 1.57758\n",
      "840/840 [==============================] - 67s 80ms/step - loss: 0.5674 - accuracy: 0.8845 - val_loss: 2.1768 - val_accuracy: 0.7524\n",
      "Epoch 6/50\n",
      "840/840 [==============================] - ETA: 0s - loss: 0.5443 - accuracy: 0.8988\n",
      "Epoch 6: val_loss did not improve from 1.57758\n",
      "840/840 [==============================] - 66s 79ms/step - loss: 0.5443 - accuracy: 0.8988 - val_loss: 3.8301 - val_accuracy: 0.6857\n",
      "Epoch 7/50\n",
      "840/840 [==============================] - ETA: 0s - loss: 0.6035 - accuracy: 0.9000\n",
      "Epoch 7: val_loss did not improve from 1.57758\n",
      "840/840 [==============================] - 66s 78ms/step - loss: 0.6035 - accuracy: 0.9000 - val_loss: 2.4410 - val_accuracy: 0.7429\n",
      "Epoch 7: early stopping\n",
      "temps d'entrainement' :           463.91 secondes\n"
     ]
    }
   ],
   "source": [
    "#On entraîne le modèle avec les données d'entraînement et de validation\n",
    "t2 = time.time()\n",
    "\n",
    "history2 = model2.fit(train_flow, \n",
    "                      epochs=50, \n",
    "                      batch_size=32, \n",
    "                      callbacks=callbacks_list, \n",
    "                      validation_data=val_flow, \n",
    "                      verbose=1)\n",
    "\n",
    "duration2=time.time()-t2\n",
    "print(\"temps d'entrainement' : \", \"%15.2f\" % duration2, \"secondes\")"
   ]
  },
  {
   "cell_type": "code",
   "execution_count": 29,
   "id": "fd1f618b",
   "metadata": {},
   "outputs": [
    {
     "name": "stdout",
     "output_type": "stream",
     "text": [
      "840/840 [==============================] - 57s 68ms/step - loss: 0.2742 - accuracy: 0.9405\n",
      "Training accuracy   : 0.9405\n",
      "\n",
      "105/105 [==============================] - 7s 68ms/step - loss: 2.5775 - accuracy: 0.7429\n",
      "Validation accuracy :  0.7429\n"
     ]
    }
   ],
   "source": [
    "# Score du dernier epoch\n",
    "\n",
    "loss, accuracy = model2.evaluate(train_flow, verbose=True)\n",
    "print(\"Training accuracy   : {:.4f}\".format(accuracy))\n",
    "print()\n",
    "loss, accuracy = model2.evaluate(val_flow, verbose=True)\n",
    "print(\"Validation accuracy :  {:.4f}\".format(accuracy))"
   ]
  },
  {
   "cell_type": "code",
   "execution_count": 30,
   "id": "7232ebe0",
   "metadata": {},
   "outputs": [
    {
     "name": "stdout",
     "output_type": "stream",
     "text": [
      "Validation accuracy :  0.7524\n",
      "Test accuracy       :  0.7429\n"
     ]
    }
   ],
   "source": [
    "# Score de l'epoch optimal\n",
    "\n",
    "model2.load_weights(model2_save_path)\n",
    "\n",
    "loss, accuracy = model2.evaluate(val_flow, verbose=False)\n",
    "print(\"Validation accuracy :  {:.4f}\".format(accuracy))\n",
    "\n",
    "loss_2, accuracy = model2.evaluate(test_flow, verbose=False)\n",
    "print(\"Test accuracy       :  {:.4f}\".format(accuracy))"
   ]
  },
  {
   "cell_type": "code",
   "execution_count": 31,
   "id": "01a14786",
   "metadata": {},
   "outputs": [
    {
     "data": {
      "image/png": "[encoded data removed]",
      "text/plain": [
       "<Figure size 1000x500 with 2 Axes>"
      ]
     },
     "metadata": {},
     "output_type": "display_data"
    }
   ],
   "source": [
    "# history plot\n",
    "show_history(history2)\n",
    "plot_history(history2, path=\"standard.png\")\n",
    "plt.close()"
   ]
  },
  {
   "cell_type": "markdown",
   "id": "ef4416eb",
   "metadata": {},
   "source": [
    "# 4.4 Matrice de confusion"
   ]
  },
  {
   "cell_type": "code",
   "execution_count": 32,
   "id": "3ef33fb9",
   "metadata": {},
   "outputs": [
    {
     "name": "stdout",
     "output_type": "stream",
     "text": [
      "4/4 [==============================] - 5s 1s/step\n",
      "Correspondance des clusters :  [0 1 2 3 4 5 6]\n"
     ]
    },
    {
     "data": {
      "text/plain": [
       "array([[ 8,  1,  0,  2,  3,  1,  0],\n",
       "       [ 0, 11,  0,  1,  0,  3,  0],\n",
       "       [ 0,  0,  9,  1,  0,  5,  0],\n",
       "       [ 1,  1,  0,  8,  2,  3,  0],\n",
       "       [ 0,  0,  0,  1, 13,  1,  0],\n",
       "       [ 0,  0,  0,  0,  0, 15,  0],\n",
       "       [ 0,  0,  0,  1,  0,  0, 14]], dtype=int64)"
      ]
     },
     "execution_count": 32,
     "metadata": {},
     "output_type": "execute_result"
    }
   ],
   "source": [
    "y_test_num_2 = np.argmax(y_test, axis=1)\n",
    "y_test_pred_2 = np.argmax(model2.predict(X_test), axis=1)\n",
    "\n",
    "y_test_pred_transform_2 = conf_mat_transform(y_test_num_2, y_test_pred_2)\n",
    "conf_mat = metrics.confusion_matrix(y_test_num_2, y_test_pred_transform_2)\n",
    "conf_mat"
   ]
  },
  {
   "cell_type": "code",
   "execution_count": 33,
   "id": "a2c947c9",
   "metadata": {},
   "outputs": [
    {
     "data": {
      "text/plain": [
       "<AxesSubplot:>"
      ]
     },
     "execution_count": 33,
     "metadata": {},
     "output_type": "execute_result"
    },
    {
     "data": {
      "image/png": "[encoded data removed]",
      "text/plain": [
       "<Figure size 600x400 with 2 Axes>"
      ]
     },
     "metadata": {},
     "output_type": "display_data"
    }
   ],
   "source": [
    "list_labels = [\"Baby Care\",\"Beauty and Personal Care\",\"Computers\",\"Home Decor & Festive Needs\",\"Home Furnishing\",\"Kitchen & Dining\",\"Watches\"]\n",
    "\n",
    "df_cm = pd.DataFrame(conf_mat, index = [label for label in list_labels],\n",
    "                  columns = [i for i in \"0123456\"])\n",
    "plt.figure(figsize = (6,4))\n",
    "sns.heatmap(df_cm, annot=True, cmap=\"Blues\")"
   ]
  },
  {
   "cell_type": "markdown",
   "id": "73bf69aa",
   "metadata": {},
   "source": [
    "# 5. Approche par dataset\n",
    "\n",
    "Comme mentionné précédemment, ImageDataGenerator est noté comme \"deprecated\". La nouvelle manière de faire préconisée est une approche par Datasets.\n",
    "\n",
    "## 5.0 Souci structurel\n",
    "\n",
    "Jusqu'ici, je n'ai jamais touché à la \"structure\" de mes images, c'est-à-dire qu'elles sont toutes rangées au même endroit, dans le dossier Flipkart/Images/.\n",
    "\n",
    "Or, pour utiliser la fonction image_dataset_from_directory, j'ai besoin d'avoir :\n",
    "- un dossier \"train\" et un \"test\" (pas complètement nécessaire mais ça me facilitera la tâche)\n",
    "- dans chacun d'entre eux, 7 sous-dossiers : un pour chaque catégorie.\n",
    "\n",
    "Pour éviter de trop charger ce notebook en particulier, j'ai choisi d'effectuer cette modification via un autre notebook, court et concis.\n",
    "\n",
    "## 5.1 Création des datasets"
   ]
  },
  {
   "cell_type": "code",
   "execution_count": 34,
   "id": "6107bebd",
   "metadata": {},
   "outputs": [
    {
     "name": "stdout",
     "output_type": "stream",
     "text": [
      "Found 945 files belonging to 7 classes.\n",
      "Using 840 files for training.\n",
      "Using 105 files for validation.\n"
     ]
    }
   ],
   "source": [
    "path_train = 'Flipkart/Images_Train/'\n",
    "\n",
    "dataset_train, dataset_val = image_dataset_from_directory(path_train,\n",
    "                                                          labels = 'inferred',\n",
    "                                                          label_mode = 'categorical',\n",
    "                                                          batch_size = 32,\n",
    "                                                          image_size = (224,224),\n",
    "                                                          shuffle = True,\n",
    "                                                          seed = 13,\n",
    "                                                          validation_split = 1/9,\n",
    "                                                          subset = 'both'\n",
    "                                                         )"
   ]
  },
  {
   "cell_type": "code",
   "execution_count": 35,
   "id": "a2aa44dc",
   "metadata": {},
   "outputs": [
    {
     "name": "stdout",
     "output_type": "stream",
     "text": [
      "Found 105 files belonging to 7 classes.\n"
     ]
    }
   ],
   "source": [
    "path_test = 'Flipkart/Images_Test/'\n",
    "\n",
    "dataset_test = image_dataset_from_directory(path_test,\n",
    "                                            labels = 'inferred',\n",
    "                                            label_mode = 'categorical',\n",
    "                                            batch_size = 32,\n",
    "                                            image_size = (224,224),\n",
    "                                            shuffle = False\n",
    "                                            )"
   ]
  },
  {
   "cell_type": "markdown",
   "id": "110b866a",
   "metadata": {},
   "source": [
    "## 5.2 Utilisation des datasets / Création du modèle\n",
    "\n",
    "L'avantage, c'est qu'on va maintenant pouvoir utiliser facilement les fonctions de Keras trouvables ici :\n",
    "https://www.tensorflow.org/tutorials/images/data_augmentation?hl=fr\n",
    "\n",
    "Ces fonctions vont nous servir à faire de la data augmentation sans avoir besoin du ImageDataGenerator :"
   ]
  },
  {
   "cell_type": "code",
   "execution_count": 36,
   "id": "31e333a7",
   "metadata": {},
   "outputs": [],
   "source": [
    "def create_model3_fct():\n",
    "    \"\"\"\n",
    "    Same function as create_model_fct, but we use data augmentation first\n",
    "    \"\"\"\n",
    "    # Data augmentation\n",
    "    data_augmentation = Sequential([\n",
    "        RandomFlip(\"horizontal_and_vertical\", input_shape=(224, 224, 3)),\n",
    "        RandomRotation(0.2),\n",
    "        # RandomZoom(0.1),\n",
    "        Rescaling(1./127.5, offset=-1)\n",
    "      ])\n",
    "    \n",
    "    # Récupération modèle pré-entraîné (comme pour create_model_fct)\n",
    "    model_base = VGG16(include_top=False, weights=\"imagenet\", input_shape=(224, 224, 3))\n",
    "    for layer in model_base.layers:\n",
    "        layer.trainable = False\n",
    "        \n",
    "    # Définition du nouveau modèle\n",
    "    model = Sequential([\n",
    "                data_augmentation,\n",
    "                model_base,\n",
    "                GlobalAveragePooling2D(),\n",
    "                Dense(256, activation='relu'),\n",
    "                # Dropout(0.5),\n",
    "                Dense(7, activation='softmax')\n",
    "                ])\n",
    "    # compilation du modèle \n",
    "    model.compile(loss=\"categorical_crossentropy\", optimizer='adam', metrics=[\"accuracy\"])\n",
    "\n",
    "    print(model.summary())\n",
    "    \n",
    "    return model\n",
    "    "
   ]
  },
  {
   "cell_type": "code",
   "execution_count": 37,
   "id": "c25c1bf3",
   "metadata": {
    "scrolled": false
   },
   "outputs": [
    {
     "name": "stdout",
     "output_type": "stream",
     "text": [
      "Model: \"sequential_1\"\n",
      "_________________________________________________________________\n",
      " Layer (type)                Output Shape              Param #   \n",
      "=================================================================\n",
      " sequential (Sequential)     (None, 224, 224, 3)       0         \n",
      "                                                                 \n",
      " vgg16 (Functional)          (None, 7, 7, 512)         14714688  \n",
      "                                                                 \n",
      " global_average_pooling2d_2  (None, 512)               0         \n",
      "  (GlobalAveragePooling2D)                                       \n",
      "                                                                 \n",
      " dense_4 (Dense)             (None, 256)               131328    \n",
      "                                                                 \n",
      " dense_5 (Dense)             (None, 7)                 1799      \n",
      "                                                                 \n",
      "=================================================================\n",
      "Total params: 14847815 (56.64 MB)\n",
      "Trainable params: 133127 (520.03 KB)\n",
      "Non-trainable params: 14714688 (56.13 MB)\n",
      "_________________________________________________________________\n",
      "None\n"
     ]
    }
   ],
   "source": [
    "model3 = create_model3_fct()"
   ]
  },
  {
   "cell_type": "code",
   "execution_count": 38,
   "id": "2bc1d2e5",
   "metadata": {},
   "outputs": [],
   "source": [
    "# Création du callback\n",
    "model3_save_path = \"./model3_best_weights.h5\"\n",
    "checkpoint = ModelCheckpoint(model3_save_path, monitor='val_loss', verbose=1, save_best_only=True, mode='min')\n",
    "es = EarlyStopping(monitor='val_loss', mode='min', verbose=1, patience=5)\n",
    "callbacks_list = [checkpoint, es]"
   ]
  },
  {
   "cell_type": "markdown",
   "id": "798dd3cf",
   "metadata": {},
   "source": [
    "## 5.3 Entraînement et évaluation du modèle\n",
    "\n",
    "A partir d'ici, c'est la même chose que pour les deux précédents modèles."
   ]
  },
  {
   "cell_type": "code",
   "execution_count": 39,
   "id": "8374a253",
   "metadata": {},
   "outputs": [
    {
     "name": "stdout",
     "output_type": "stream",
     "text": [
      "Epoch 1/50\n",
      "27/27 [==============================] - ETA: 0s - loss: 1.6413 - accuracy: 0.4179\n",
      "Epoch 1: val_loss improved from inf to 1.19997, saving model to .\\model3_best_weights.h5\n",
      "27/27 [==============================] - 51s 2s/step - loss: 1.6413 - accuracy: 0.4179 - val_loss: 1.2000 - val_accuracy: 0.6952\n",
      "Epoch 2/50\n"
     ]
    },
    {
     "name": "stderr",
     "output_type": "stream",
     "text": [
      "C:\\Users\\Yann\\anaconda3\\lib\\site-packages\\keras\\src\\engine\\training.py:3000: UserWarning: You are saving your model as an HDF5 file via `model.save()`. This file format is considered legacy. We recommend using instead the native Keras format, e.g. `model.save('my_model.keras')`.\n",
      "  saving_api.save_model(\n"
     ]
    },
    {
     "name": "stdout",
     "output_type": "stream",
     "text": [
      "27/27 [==============================] - ETA: 0s - loss: 1.1356 - accuracy: 0.6571\n",
      "Epoch 2: val_loss improved from 1.19997 to 0.93055, saving model to .\\model3_best_weights.h5\n",
      "27/27 [==============================] - 53s 2s/step - loss: 1.1356 - accuracy: 0.6571 - val_loss: 0.9306 - val_accuracy: 0.7238\n",
      "Epoch 3/50\n",
      "27/27 [==============================] - ETA: 0s - loss: 0.9702 - accuracy: 0.6631\n",
      "Epoch 3: val_loss improved from 0.93055 to 0.83392, saving model to .\\model3_best_weights.h5\n",
      "27/27 [==============================] - 54s 2s/step - loss: 0.9702 - accuracy: 0.6631 - val_loss: 0.8339 - val_accuracy: 0.7524\n",
      "Epoch 4/50\n",
      "27/27 [==============================] - ETA: 0s - loss: 0.8838 - accuracy: 0.7286\n",
      "Epoch 4: val_loss improved from 0.83392 to 0.79005, saving model to .\\model3_best_weights.h5\n",
      "27/27 [==============================] - 52s 2s/step - loss: 0.8838 - accuracy: 0.7286 - val_loss: 0.7900 - val_accuracy: 0.7810\n",
      "Epoch 5/50\n",
      "27/27 [==============================] - ETA: 0s - loss: 0.8070 - accuracy: 0.7393\n",
      "Epoch 5: val_loss improved from 0.79005 to 0.77050, saving model to .\\model3_best_weights.h5\n",
      "27/27 [==============================] - 53s 2s/step - loss: 0.8070 - accuracy: 0.7393 - val_loss: 0.7705 - val_accuracy: 0.7714\n",
      "Epoch 6/50\n",
      "27/27 [==============================] - ETA: 0s - loss: 0.7472 - accuracy: 0.7655\n",
      "Epoch 6: val_loss did not improve from 0.77050\n",
      "27/27 [==============================] - 52s 2s/step - loss: 0.7472 - accuracy: 0.7655 - val_loss: 0.7744 - val_accuracy: 0.7714\n",
      "Epoch 7/50\n",
      "27/27 [==============================] - ETA: 0s - loss: 0.7121 - accuracy: 0.7857\n",
      "Epoch 7: val_loss improved from 0.77050 to 0.72538, saving model to .\\model3_best_weights.h5\n",
      "27/27 [==============================] - 54s 2s/step - loss: 0.7121 - accuracy: 0.7857 - val_loss: 0.7254 - val_accuracy: 0.8000\n",
      "Epoch 8/50\n",
      "27/27 [==============================] - ETA: 0s - loss: 0.6754 - accuracy: 0.7869\n",
      "Epoch 8: val_loss did not improve from 0.72538\n",
      "27/27 [==============================] - 53s 2s/step - loss: 0.6754 - accuracy: 0.7869 - val_loss: 0.7440 - val_accuracy: 0.8000\n",
      "Epoch 9/50\n",
      "27/27 [==============================] - ETA: 0s - loss: 0.6567 - accuracy: 0.7857\n",
      "Epoch 9: val_loss did not improve from 0.72538\n",
      "27/27 [==============================] - 52s 2s/step - loss: 0.6567 - accuracy: 0.7857 - val_loss: 0.7847 - val_accuracy: 0.7619\n",
      "Epoch 10/50\n",
      "27/27 [==============================] - ETA: 0s - loss: 0.6311 - accuracy: 0.7952\n",
      "Epoch 10: val_loss improved from 0.72538 to 0.70632, saving model to .\\model3_best_weights.h5\n",
      "27/27 [==============================] - 53s 2s/step - loss: 0.6311 - accuracy: 0.7952 - val_loss: 0.7063 - val_accuracy: 0.7905\n",
      "Epoch 11/50\n",
      "27/27 [==============================] - ETA: 0s - loss: 0.6100 - accuracy: 0.8060\n",
      "Epoch 11: val_loss improved from 0.70632 to 0.69794, saving model to .\\model3_best_weights.h5\n",
      "27/27 [==============================] - 52s 2s/step - loss: 0.6100 - accuracy: 0.8060 - val_loss: 0.6979 - val_accuracy: 0.8000\n",
      "Epoch 12/50\n",
      "27/27 [==============================] - ETA: 0s - loss: 0.5579 - accuracy: 0.8167\n",
      "Epoch 12: val_loss did not improve from 0.69794\n",
      "27/27 [==============================] - 53s 2s/step - loss: 0.5579 - accuracy: 0.8167 - val_loss: 0.7146 - val_accuracy: 0.8095\n",
      "Epoch 13/50\n",
      "27/27 [==============================] - ETA: 0s - loss: 0.5706 - accuracy: 0.8262\n",
      "Epoch 13: val_loss did not improve from 0.69794\n",
      "27/27 [==============================] - 53s 2s/step - loss: 0.5706 - accuracy: 0.8262 - val_loss: 0.7133 - val_accuracy: 0.7714\n",
      "Epoch 14/50\n",
      "27/27 [==============================] - ETA: 0s - loss: 0.5367 - accuracy: 0.8310\n",
      "Epoch 14: val_loss did not improve from 0.69794\n",
      "27/27 [==============================] - 55s 2s/step - loss: 0.5367 - accuracy: 0.8310 - val_loss: 0.7200 - val_accuracy: 0.7619\n",
      "Epoch 15/50\n",
      "27/27 [==============================] - ETA: 0s - loss: 0.5082 - accuracy: 0.8417\n",
      "Epoch 15: val_loss did not improve from 0.69794\n",
      "27/27 [==============================] - 52s 2s/step - loss: 0.5082 - accuracy: 0.8417 - val_loss: 0.7714 - val_accuracy: 0.7619\n",
      "Epoch 16/50\n",
      "27/27 [==============================] - ETA: 0s - loss: 0.5122 - accuracy: 0.8476\n",
      "Epoch 16: val_loss did not improve from 0.69794\n",
      "27/27 [==============================] - 53s 2s/step - loss: 0.5122 - accuracy: 0.8476 - val_loss: 0.7290 - val_accuracy: 0.8095\n",
      "Epoch 16: early stopping\n",
      "temps d'entrainement' :           845.26 secondes\n"
     ]
    }
   ],
   "source": [
    "t3 = time.time()\n",
    "\n",
    "history3 = model3.fit(dataset_train,\n",
    "                      validation_data=dataset_val,\n",
    "                      batch_size=32,\n",
    "                      epochs=50,\n",
    "                      callbacks=callbacks_list,\n",
    "                      verbose=1)\n",
    "\n",
    "duration3=time.time()-t3\n",
    "print(\"temps d'entrainement' : \", \"%15.2f\" % duration3, \"secondes\")"
   ]
  },
  {
   "cell_type": "code",
   "execution_count": 40,
   "id": "ea0c1dd2",
   "metadata": {},
   "outputs": [
    {
     "name": "stdout",
     "output_type": "stream",
     "text": [
      "27/27 [==============================] - 45s 2s/step - loss: 0.4333 - accuracy: 0.8583\n",
      "Training accuracy   : 0.8583\n",
      "\n",
      "4/4 [==============================] - 6s 1s/step - loss: 0.7290 - accuracy: 0.8095\n",
      "Validation accuracy :  0.8095\n"
     ]
    }
   ],
   "source": [
    "# Score du dernier epoch\n",
    "\n",
    "loss, accuracy = model3.evaluate(dataset_train, verbose=True)\n",
    "print(\"Training accuracy   : {:.4f}\".format(accuracy))\n",
    "print()\n",
    "loss, accuracy = model3.evaluate(dataset_val, verbose=True)\n",
    "print(\"Validation accuracy :  {:.4f}\".format(accuracy))"
   ]
  },
  {
   "cell_type": "code",
   "execution_count": 41,
   "id": "867fdf05",
   "metadata": {},
   "outputs": [
    {
     "name": "stdout",
     "output_type": "stream",
     "text": [
      "Validation accuracy :  0.8000\n",
      "Test accuracy       :  0.7905\n"
     ]
    }
   ],
   "source": [
    "# Score de l'epoch optimal\n",
    "\n",
    "model3.load_weights(model3_save_path)\n",
    "\n",
    "loss, accuracy = model3.evaluate(dataset_val, verbose=False)\n",
    "print(\"Validation accuracy :  {:.4f}\".format(accuracy))\n",
    "\n",
    "loss_3, accuracy = model3.evaluate(dataset_test, verbose=False)\n",
    "print(\"Test accuracy       :  {:.4f}\".format(accuracy))\n"
   ]
  },
  {
   "cell_type": "code",
   "execution_count": 42,
   "id": "93b6d958",
   "metadata": {},
   "outputs": [
    {
     "data": {
      "image/png": "[encoded data removed]",
      "text/plain": [
       "<Figure size 1000x500 with 2 Axes>"
      ]
     },
     "metadata": {},
     "output_type": "display_data"
    }
   ],
   "source": [
    "show_history(history3)\n",
    "plot_history(history3, path=\"standard.png\")\n",
    "plt.close()"
   ]
  },
  {
   "cell_type": "markdown",
   "id": "164adce6",
   "metadata": {},
   "source": [
    "## 5.4 Matrice de confusion\n",
    "\n",
    "Pour commencer, jene peux pas utiliser y_test comme précédemment, à cause de la construction des datasets qui a été effectuée différemment (en triant les dossiers) cette fois-ci.\n",
    "\n",
    "Je peux y remédier ainsi."
   ]
  },
  {
   "cell_type": "code",
   "execution_count": 43,
   "id": "ef81da9a",
   "metadata": {},
   "outputs": [],
   "source": [
    "y_test_datasets = np.concatenate([y for x, y in dataset_test], axis=0)\n",
    "# Je vérifie le bon fonctionnement (en commenté parce que l'array retourné est long)\n",
    "# y_test_datasets "
   ]
  },
  {
   "cell_type": "code",
   "execution_count": 44,
   "id": "29cc2af7",
   "metadata": {},
   "outputs": [
    {
     "name": "stdout",
     "output_type": "stream",
     "text": [
      "4/4 [==============================] - 5s 1s/step\n",
      "Correspondance des clusters :  [0 1 2 3 4 5 6]\n"
     ]
    },
    {
     "data": {
      "text/plain": [
       "array([[ 9,  0,  0,  3,  2,  1,  0],\n",
       "       [ 0, 12,  1,  1,  0,  1,  0],\n",
       "       [ 0,  1, 13,  1,  0,  0,  0],\n",
       "       [ 1,  0,  3,  9,  0,  2,  0],\n",
       "       [ 1,  0,  0,  1, 12,  1,  0],\n",
       "       [ 1,  0,  1,  0,  0, 13,  0],\n",
       "       [ 0,  0,  0,  0,  0,  0, 15]], dtype=int64)"
      ]
     },
     "execution_count": 44,
     "metadata": {},
     "output_type": "execute_result"
    }
   ],
   "source": [
    "y_test_num_3 = np.argmax(y_test_datasets, axis=1)\n",
    "y_test_pred_3 = np.argmax(model3.predict(dataset_test), axis=1)\n",
    "\n",
    "y_test_pred_transform_3 = conf_mat_transform(y_test_num_3, y_test_pred_3)\n",
    "conf_mat = metrics.confusion_matrix(y_test_num_3, y_test_pred_transform_3)\n",
    "conf_mat"
   ]
  },
  {
   "cell_type": "code",
   "execution_count": 45,
   "id": "8928c7d1",
   "metadata": {},
   "outputs": [
    {
     "data": {
      "text/plain": [
       "<AxesSubplot:>"
      ]
     },
     "execution_count": 45,
     "metadata": {},
     "output_type": "execute_result"
    },
    {
     "data": {
      "image/png": "[encoded data removed]",
      "text/plain": [
       "<Figure size 600x400 with 2 Axes>"
      ]
     },
     "metadata": {},
     "output_type": "display_data"
    }
   ],
   "source": [
    "list_labels = [\"Baby Care\",\"Beauty and Personal Care\",\"Computers\",\"Home Decor & Festive Needs\",\"Home Furnishing\",\"Kitchen & Dining\",\"Watches\"]\n",
    "\n",
    "df_cm = pd.DataFrame(conf_mat, index = [label for label in list_labels],\n",
    "                  columns = [i for i in \"0123456\"])\n",
    "plt.figure(figsize = (6,4))\n",
    "sns.heatmap(df_cm, annot=True, cmap=\"Blues\")"
   ]
  },
  {
   "cell_type": "markdown",
   "id": "8c0a5bad",
   "metadata": {},
   "source": [
    "# 6. Conclusions\n",
    "\n",
    "## 6.1 Premières conclusions\n",
    "\n",
    "Je n'ai pas encore terminé mon étude, mais je peux déjà m'exprimer sur ce que l'on observe jusqu'ici.\n",
    "\n",
    "Disclaimer : je sais que l'accuracy n'est pas nécessairement la meilleure métrique à propos d'une classification avec plus de deux classes. Je vais donc prendre des pincettes quant à ces premières conclusions. En revanche, l'observation des matrices de confusion nous permet de détailler nos observations un peu plus en profondeur.\n",
    "\n",
    "\n",
    "- Globalement, les trois modèles testés dans ce notebook semblent très prometteurs. Avec un jeu de données aussi peu fourni, la classification est satisfaisante. Suffisamment satisfaisante pour être utilisée directement par \"Place de marché\" ? Non. Mais suffisament satisfaisante pour vouloir l'entraîner sur un jeu de données plus important avant une future implémentation.\n",
    "\n",
    "- Plus précisément, certaines de nos catégories sont très bien prédites. D'autres le sont beaucoup plus difficilement. Cela est en grande majorité dû au manque de données. En effet, la catégorie \"Watches\", qui est toujours très bien prédite, ne comporte quasiement que des images de montres. Certaines sont des radio-réveils, mais cela reste marginal. En revanche, la catégorie \"Home Decor & Festive Needs\", par exemple, est rarement bien prédite (on a tout de même une précision non ridicule). Cela est dû au fait que les objets rentrant dans cette catégorie sont beaucoup plus variés, et certains sont même uniques dans notre jeu de données. Difficile, donc, d'entraîner une IA pour les reconnaître, aussi performante soit-elle.\n",
    "\n",
    "- Pour comparer mes trois modèles testés ici, utiliser l'accuracy me semble léger. Tout d'abord elle varie peu entre ces modèles, et de plus elle est trop \"vague\" pour être exploitable solidement en tant que comparaison. En revanche, on remarque que la \"loss\" (entropie croisée) est nettement plus faible (et donc meilleure) pour notre dernier modèle. C'est donc plutôt celui-ci qui va nous intéresser pour l'éventuelle suite des événements.\n",
    "\n",
    "## 6.2 Précision des modèles\n",
    "\n",
    "Je vais à présent calculer la précision de mes modèles pour deux raisons :\n",
    "\n",
    "- Je souhaite renforcer mes observations.\n",
    "\n",
    "- Je me place dans l'hypothèse où je ne peux pas obtenir de nouvelles données. Dans ce cas, je ne me vois pas implémenter mon modèle tel quel, parce qu'il n'est pas suffisamment performant. En revanche, j'aimerais déjà dire que je lui fais confiance pour certaines catégories, et éventuellement envisager une implémentation partielle. Pour cette raison, je veux savoir pour quelles catégories il est performant lorsqu'il la prédit. Autrement dit, s'il prédit \"Baby Care\", je veux qu'il ait juste. C'est pourquoi mon choix s'est porté sur la précision."
   ]
  },
  {
   "cell_type": "code",
   "execution_count": 46,
   "id": "583abbf4",
   "metadata": {},
   "outputs": [
    {
     "data": {
      "text/plain": [
       "array([0.75      , 0.92307692, 0.72222222, 0.6       , 0.85714286,\n",
       "       0.72222222, 1.        ])"
      ]
     },
     "execution_count": 46,
     "metadata": {},
     "output_type": "execute_result"
    }
   ],
   "source": [
    "#Je récupère la précision sur chaque classe pour mes 3 modèles\n",
    "precision3 = metrics.precision_score(y_test_num_3,y_test_pred_3, average = None)\n",
    "precision3"
   ]
  },
  {
   "cell_type": "code",
   "execution_count": 47,
   "id": "5ef36c9f",
   "metadata": {},
   "outputs": [
    {
     "data": {
      "text/plain": [
       "array([0.88888889, 0.84615385, 1.        , 0.57142857, 0.72222222,\n",
       "       0.53571429, 1.        ])"
      ]
     },
     "execution_count": 47,
     "metadata": {},
     "output_type": "execute_result"
    }
   ],
   "source": [
    "precision2 = metrics.precision_score(y_test_num_2,y_test_pred_2, average = None)\n",
    "precision2"
   ]
  },
  {
   "cell_type": "code",
   "execution_count": 48,
   "id": "7ac4ed6c",
   "metadata": {},
   "outputs": [
    {
     "data": {
      "text/plain": [
       "array([0.70588235, 0.93333333, 1.        , 0.7       , 0.85714286,\n",
       "       0.72222222, 0.88235294])"
      ]
     },
     "execution_count": 48,
     "metadata": {},
     "output_type": "execute_result"
    }
   ],
   "source": [
    "precision1 = metrics.precision_score(y_test_num_1,y_test_pred_1, average = None)\n",
    "precision1"
   ]
  },
  {
   "cell_type": "code",
   "execution_count": 49,
   "id": "adcfaa2b",
   "metadata": {},
   "outputs": [],
   "source": [
    "# Je construis un tableau pour une meilleure lisibilité\n",
    "comparison_df = pd.DataFrame(columns=['Baby_Care_Precision',\n",
    "                                      'Beauty_Precision',\n",
    "                                      'Computers_Precision',\n",
    "                                      'Decor_Precision',\n",
    "                                      'Furnishing_Precision',\n",
    "                                     'Kitchen Precision',\n",
    "                                     'Watches Precision'],\n",
    "                             index=['model1','model2','model3'])\n",
    "\n",
    "comparison_df.loc['model1'] = precision1\n",
    "comparison_df.loc['model2'] = precision2\n",
    "comparison_df.loc['model3'] = precision3"
   ]
  },
  {
   "cell_type": "code",
   "execution_count": 50,
   "id": "732dd9fb",
   "metadata": {},
   "outputs": [
    {
     "data": {
      "text/html": [
       "<div>\n",
       "<style scoped>\n",
       "    .dataframe tbody tr th:only-of-type {\n",
       "        vertical-align: middle;\n",
       "    }\n",
       "\n",
       "    .dataframe tbody tr th {\n",
       "        vertical-align: top;\n",
       "    }\n",
       "\n",
       "    .dataframe thead th {\n",
       "        text-align: right;\n",
       "    }\n",
       "</style>\n",
       "<table border=\"1\" class=\"dataframe\">\n",
       "  <thead>\n",
       "    <tr style=\"text-align: right;\">\n",
       "      <th></th>\n",
       "      <th>Baby_Care_Precision</th>\n",
       "      <th>Beauty_Precision</th>\n",
       "      <th>Computers_Precision</th>\n",
       "      <th>Decor_Precision</th>\n",
       "      <th>Furnishing_Precision</th>\n",
       "      <th>Kitchen Precision</th>\n",
       "      <th>Watches Precision</th>\n",
       "    </tr>\n",
       "  </thead>\n",
       "  <tbody>\n",
       "    <tr>\n",
       "      <th>model1</th>\n",
       "      <td>0.705882</td>\n",
       "      <td>0.933333</td>\n",
       "      <td>1.0</td>\n",
       "      <td>0.7</td>\n",
       "      <td>0.857143</td>\n",
       "      <td>0.722222</td>\n",
       "      <td>0.882353</td>\n",
       "    </tr>\n",
       "    <tr>\n",
       "      <th>model2</th>\n",
       "      <td>0.888889</td>\n",
       "      <td>0.846154</td>\n",
       "      <td>1.0</td>\n",
       "      <td>0.571429</td>\n",
       "      <td>0.722222</td>\n",
       "      <td>0.535714</td>\n",
       "      <td>1.0</td>\n",
       "    </tr>\n",
       "    <tr>\n",
       "      <th>model3</th>\n",
       "      <td>0.75</td>\n",
       "      <td>0.923077</td>\n",
       "      <td>0.722222</td>\n",
       "      <td>0.6</td>\n",
       "      <td>0.857143</td>\n",
       "      <td>0.722222</td>\n",
       "      <td>1.0</td>\n",
       "    </tr>\n",
       "  </tbody>\n",
       "</table>\n",
       "</div>"
      ],
      "text/plain": [
       "       Baby_Care_Precision Beauty_Precision Computers_Precision  \\\n",
       "model1            0.705882         0.933333                 1.0   \n",
       "model2            0.888889         0.846154                 1.0   \n",
       "model3                0.75         0.923077            0.722222   \n",
       "\n",
       "       Decor_Precision Furnishing_Precision Kitchen Precision  \\\n",
       "model1             0.7             0.857143          0.722222   \n",
       "model2        0.571429             0.722222          0.535714   \n",
       "model3             0.6             0.857143          0.722222   \n",
       "\n",
       "       Watches Precision  \n",
       "model1          0.882353  \n",
       "model2               1.0  \n",
       "model3               1.0  "
      ]
     },
     "execution_count": 50,
     "metadata": {},
     "output_type": "execute_result"
    }
   ],
   "source": [
    "comparison_df"
   ]
  },
  {
   "cell_type": "markdown",
   "id": "495ebfd1",
   "metadata": {},
   "source": [
    "En vérité, si je ne regarde que la précision (sur toutes les catégories), il est difficile de conclure quoi que ce soit. Premièrement, parce que les trois modèles ont une performance relativement similaire lorsqu'on regarde l'ensemble (La précision moyenne est l'accuracy). Deuxièmement, à cause de l'aléatoire dû à ma méthode d'apprentissage. En effet, le train_test_split opéré au départ pourrait être différent, et nous donner d'autres résultats. De plus, pour le dernier modèle, le \"shuffle\" effectué lors de la création du dataset est aussi un facteur de génération d'aléatoire, si je modifie sa \"seed\", j'aurai des résultats différents.\n",
    "\n",
    "Pour avoir un tableau complet, je vais ajouter la \"loss\" et le temps d'entrainement."
   ]
  },
  {
   "cell_type": "code",
   "execution_count": 51,
   "id": "0ce0e4ea",
   "metadata": {},
   "outputs": [
    {
     "data": {
      "text/html": [
       "<div>\n",
       "<style scoped>\n",
       "    .dataframe tbody tr th:only-of-type {\n",
       "        vertical-align: middle;\n",
       "    }\n",
       "\n",
       "    .dataframe tbody tr th {\n",
       "        vertical-align: top;\n",
       "    }\n",
       "\n",
       "    .dataframe thead th {\n",
       "        text-align: right;\n",
       "    }\n",
       "</style>\n",
       "<table border=\"1\" class=\"dataframe\">\n",
       "  <thead>\n",
       "    <tr style=\"text-align: right;\">\n",
       "      <th></th>\n",
       "      <th>Baby_Care_Precision</th>\n",
       "      <th>Beauty_Precision</th>\n",
       "      <th>Computers_Precision</th>\n",
       "      <th>Decor_Precision</th>\n",
       "      <th>Furnishing_Precision</th>\n",
       "      <th>Kitchen Precision</th>\n",
       "      <th>Watches Precision</th>\n",
       "      <th>loss</th>\n",
       "      <th>training_time</th>\n",
       "    </tr>\n",
       "  </thead>\n",
       "  <tbody>\n",
       "    <tr>\n",
       "      <th>model1</th>\n",
       "      <td>0.705882</td>\n",
       "      <td>0.933333</td>\n",
       "      <td>1.0</td>\n",
       "      <td>0.7</td>\n",
       "      <td>0.857143</td>\n",
       "      <td>0.722222</td>\n",
       "      <td>0.882353</td>\n",
       "      <td>1.054902</td>\n",
       "      <td>522.718118</td>\n",
       "    </tr>\n",
       "    <tr>\n",
       "      <th>model2</th>\n",
       "      <td>0.888889</td>\n",
       "      <td>0.846154</td>\n",
       "      <td>1.0</td>\n",
       "      <td>0.571429</td>\n",
       "      <td>0.722222</td>\n",
       "      <td>0.535714</td>\n",
       "      <td>1.0</td>\n",
       "      <td>1.564525</td>\n",
       "      <td>463.907020</td>\n",
       "    </tr>\n",
       "    <tr>\n",
       "      <th>model3</th>\n",
       "      <td>0.75</td>\n",
       "      <td>0.923077</td>\n",
       "      <td>0.722222</td>\n",
       "      <td>0.6</td>\n",
       "      <td>0.857143</td>\n",
       "      <td>0.722222</td>\n",
       "      <td>1.0</td>\n",
       "      <td>0.643752</td>\n",
       "      <td>845.261600</td>\n",
       "    </tr>\n",
       "  </tbody>\n",
       "</table>\n",
       "</div>"
      ],
      "text/plain": [
       "       Baby_Care_Precision Beauty_Precision Computers_Precision  \\\n",
       "model1            0.705882         0.933333                 1.0   \n",
       "model2            0.888889         0.846154                 1.0   \n",
       "model3                0.75         0.923077            0.722222   \n",
       "\n",
       "       Decor_Precision Furnishing_Precision Kitchen Precision  \\\n",
       "model1             0.7             0.857143          0.722222   \n",
       "model2        0.571429             0.722222          0.535714   \n",
       "model3             0.6             0.857143          0.722222   \n",
       "\n",
       "       Watches Precision      loss  training_time  \n",
       "model1          0.882353  1.054902     522.718118  \n",
       "model2               1.0  1.564525     463.907020  \n",
       "model3               1.0  0.643752     845.261600  "
      ]
     },
     "execution_count": 51,
     "metadata": {},
     "output_type": "execute_result"
    }
   ],
   "source": [
    "comparison_df[\"loss\"] = [loss_1, loss_2, loss_3]\n",
    "comparison_df[\"training_time\"] = [duration1, duration2, duration3]\n",
    "comparison_df"
   ]
  },
  {
   "cell_type": "markdown",
   "id": "648b88da",
   "metadata": {},
   "source": [
    "## 6.3 Dernières conclusions\n",
    "\n",
    "Même si le temps d'entraînement est plus important pour le dernier modèle, il reste suffisamment raisonnable pour envisager de l'utiliser. D'autant qu'il est nettement plus performant sur la fonction de perte. C'est donc à mon sens le plus prometteur. Cela dit, si on veut bien nous donner un jeu de données suffisamment important, on n'aura peut-être plus besoin de data augmentation, et donc le modèle 1 sera adapté.\n",
    "\n",
    "Il convient aussi de se rappeler qu'à l'origine, on avait en fait beaucoup plus de sous-catégories que les 7 retenues finalement. Toujours dans le cadre où on a si peu de données, il est totalement inenvisageable de prédire aussi loin.\n",
    "\n",
    "On pourrait, s'il fallait vraiment tout optimiser avec ces données, également envisager de créer un modèle s'appuyant à la fois sur l'image et le texte. \n",
    "\n",
    "Pour le reste des conclusions, elles sont dans le paragraphe \"Premières conclusions\", légèrement plus haut.\n",
    "\n",
    "Merci pour votre lecture !"
   ]
  },
  {
   "cell_type": "code",
   "execution_count": null,
   "id": "1f34aecf",
   "metadata": {},
   "outputs": [],
   "source": []
  }
 ],
 "metadata": {
  "kernelspec": {
   "display_name": "Python 3 (ipykernel)",
   "language": "python",
   "name": "python3"
  },
  "language_info": {
   "codemirror_mode": {
    "name": "ipython",
    "version": 3
   },
   "file_extension": ".py",
   "mimetype": "text/x-python",
   "name": "python",
   "nbconvert_exporter": "python",
   "pygments_lexer": "ipython3",
   "version": "3.9.13"
  }
 },
 "nbformat": 4,
 "nbformat_minor": 5
}
