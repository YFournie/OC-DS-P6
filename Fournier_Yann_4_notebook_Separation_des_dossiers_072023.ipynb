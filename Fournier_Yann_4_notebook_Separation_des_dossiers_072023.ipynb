{
 "cells": [
  {
   "cell_type": "markdown",
   "id": "40bd07a6",
   "metadata": {},
   "source": [
    "Bonjour,\n",
    "\n",
    "Ce notebook sert à répartir mes images, initialement entreposées toutes ensembles dans le dossier \"Images\", en plusieurs sous-dossiers.\n",
    "\n",
    "- Dans un premier temps, je vais créer un dossier Images_train et un dossier Images_test, me permettant d'agir séparément sur ces dossiers.\n",
    "\n",
    "- Ensuite, je vais renommer toutes les images pour leur ajouter un \".jpg\", afin que la fonction image_datset_from_directory de Keras puisse fonctionner comme il se doit.\n",
    "\n",
    "- Enfin, pour chacun de mes deux dossiers, je vais séparer mes images en 7 sous-dossiers, par catégories. Ces dossiers auront le nom de la catégorie associée.\n",
    "\n",
    "(Les étapes 2 et 3 seront en fait réalisées en même temps)"
   ]
  },
  {
   "cell_type": "code",
   "execution_count": 15,
   "id": "437bf216",
   "metadata": {},
   "outputs": [],
   "source": [
    "import pandas as pd\n",
    "\n",
    "from os import listdir, mkdir, path\n",
    "\n",
    "import shutil"
   ]
  },
  {
   "cell_type": "code",
   "execution_count": 2,
   "id": "2c21b217",
   "metadata": {},
   "outputs": [
    {
     "data": {
      "text/html": [
       "<div>\n",
       "<style scoped>\n",
       "    .dataframe tbody tr th:only-of-type {\n",
       "        vertical-align: middle;\n",
       "    }\n",
       "\n",
       "    .dataframe tbody tr th {\n",
       "        vertical-align: top;\n",
       "    }\n",
       "\n",
       "    .dataframe thead th {\n",
       "        text-align: right;\n",
       "    }\n",
       "</style>\n",
       "<table border=\"1\" class=\"dataframe\">\n",
       "  <thead>\n",
       "    <tr style=\"text-align: right;\">\n",
       "      <th></th>\n",
       "      <th>image</th>\n",
       "      <th>target</th>\n",
       "    </tr>\n",
       "  </thead>\n",
       "  <tbody>\n",
       "    <tr>\n",
       "      <th>0</th>\n",
       "      <td>55b85ea15a1536d46b7190ad6fff8ce7.jpg</td>\n",
       "      <td>Home Furnishing</td>\n",
       "    </tr>\n",
       "    <tr>\n",
       "      <th>1</th>\n",
       "      <td>7b72c92c2f6c40268628ec5f14c6d590.jpg</td>\n",
       "      <td>Baby Care</td>\n",
       "    </tr>\n",
       "    <tr>\n",
       "      <th>2</th>\n",
       "      <td>64d5d4a258243731dc7bbb1eef49ad74.jpg</td>\n",
       "      <td>Baby Care</td>\n",
       "    </tr>\n",
       "    <tr>\n",
       "      <th>3</th>\n",
       "      <td>d4684dcdc759dd9cdf41504698d737d8.jpg</td>\n",
       "      <td>Home Furnishing</td>\n",
       "    </tr>\n",
       "    <tr>\n",
       "      <th>4</th>\n",
       "      <td>6325b6870c54cd47be6ebfbffa620ec7.jpg</td>\n",
       "      <td>Home Furnishing</td>\n",
       "    </tr>\n",
       "  </tbody>\n",
       "</table>\n",
       "</div>"
      ],
      "text/plain": [
       "                                  image           target\n",
       "0  55b85ea15a1536d46b7190ad6fff8ce7.jpg  Home Furnishing\n",
       "1  7b72c92c2f6c40268628ec5f14c6d590.jpg        Baby Care\n",
       "2  64d5d4a258243731dc7bbb1eef49ad74.jpg        Baby Care\n",
       "3  d4684dcdc759dd9cdf41504698d737d8.jpg  Home Furnishing\n",
       "4  6325b6870c54cd47be6ebfbffa620ec7.jpg  Home Furnishing"
      ]
     },
     "execution_count": 2,
     "metadata": {},
     "output_type": "execute_result"
    }
   ],
   "source": [
    "df = pd.read_csv(\"for_notebook_2.csv\")\n",
    "df.head()"
   ]
  },
  {
   "cell_type": "code",
   "execution_count": 12,
   "id": "0e8c9b84",
   "metadata": {},
   "outputs": [],
   "source": [
    "# On créé les dossiers test et train\n",
    "mkdir('Flipkart/Images_Train')\n",
    "mkdir('Flipkart/Images_Test')"
   ]
  },
  {
   "cell_type": "code",
   "execution_count": 14,
   "id": "2bae393c",
   "metadata": {},
   "outputs": [],
   "source": [
    "#Dans chaque dossier on créé les 7 sous-dossiers\n",
    "for category in df[\"target\"].unique():\n",
    "    path_train = path.join('Flipkart/Images_Train', category)\n",
    "    mkdir (path_train)\n",
    "    path_test = path.join('Flipkart/Images_Test', category)\n",
    "    mkdir (path_test)"
   ]
  },
  {
   "cell_type": "code",
   "execution_count": 20,
   "id": "4c6ce3a4",
   "metadata": {},
   "outputs": [
    {
     "data": {
      "text/plain": [
       "(945, 2)"
      ]
     },
     "execution_count": 20,
     "metadata": {},
     "output_type": "execute_result"
    }
   ],
   "source": [
    "#Je récupère ces dataframes séparés selon la catégorie, puisque j'ai déjà fait\n",
    "#ce travail auparavant, nul besoin de séparer de nouveau ici.\n",
    "df_train = pd.read_csv(\"df_train.csv\")\n",
    "df_train.shape"
   ]
  },
  {
   "cell_type": "code",
   "execution_count": 21,
   "id": "9f35174a",
   "metadata": {},
   "outputs": [
    {
     "data": {
      "text/plain": [
       "(105, 2)"
      ]
     },
     "execution_count": 21,
     "metadata": {},
     "output_type": "execute_result"
    }
   ],
   "source": [
    "df_test = pd.read_csv(\"df_test.csv\")\n",
    "df_test.shape"
   ]
  },
  {
   "cell_type": "code",
   "execution_count": 34,
   "id": "3dc8a203",
   "metadata": {},
   "outputs": [],
   "source": [
    "#Je créé une fonction pour tout ranger au bon endroit\n",
    "def sort_images (df, train_or_test = 'train'):\n",
    "    \"\"\"\n",
    "    Takes my 'Images' directory, checks all the images and also their category.\n",
    "    Depending on the category, sorts all images into subdirectories accordingly.\n",
    "    \"\"\"\n",
    "    #Je choisis le sous-dossier en fonction de train_or_test\n",
    "    if train_or_test == 'test':\n",
    "        path_to = 'Flipkart/Images_Test/'\n",
    "    else:\n",
    "        path_to = 'Flipkart/Images_Train/'\n",
    "    \n",
    "    #Le dossier d'où je vais copier mes images\n",
    "    path = 'Flipkart/Images/'\n",
    "    \n",
    "    #Pour chaque image, je récupère la catégorie (row[1]) puis j'envoie l'image (row[0]) dans le bon dossier\n",
    "    for index, row in df.iterrows():\n",
    "        good_path = path_to + row[1] + '/'\n",
    "        shutil.copy(path + row[0], good_path)\n",
    "        "
   ]
  },
  {
   "cell_type": "code",
   "execution_count": 35,
   "id": "481f6e55",
   "metadata": {},
   "outputs": [],
   "source": [
    "sort_images(df_train, train_or_test = 'train')\n",
    "sort_images(df_test, train_or_test = 'test')"
   ]
  },
  {
   "cell_type": "markdown",
   "id": "2d52930e",
   "metadata": {},
   "source": [
    "Cela conclut ce notebook. On a bien séparé nos images comme on le souhaitait au départ."
   ]
  }
 ],
 "metadata": {
  "kernelspec": {
   "display_name": "Python 3 (ipykernel)",
   "language": "python",
   "name": "python3"
  },
  "language_info": {
   "codemirror_mode": {
    "name": "ipython",
    "version": 3
   },
   "file_extension": ".py",
   "mimetype": "text/x-python",
   "name": "python",
   "nbconvert_exporter": "python",
   "pygments_lexer": "ipython3",
   "version": "3.11.5"
  }
 },
 "nbformat": 4,
 "nbformat_minor": 5
}
